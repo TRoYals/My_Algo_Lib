{
  "nbformat": 4,
  "nbformat_minor": 0,
  "metadata": {
    "colab": {
      "provenance": [],
      "authorship_tag": "ABX9TyO0rOg57TlT+LTRRIwNzcOQ",
      "include_colab_link": true
    },
    "kernelspec": {
      "name": "python3",
      "display_name": "Python 3"
    },
    "language_info": {
      "name": "python"
    },
    "gpuClass": "standard",
    "accelerator": "GPU"
  },
  "cells": [
    {
      "cell_type": "markdown",
      "metadata": {
        "id": "view-in-github",
        "colab_type": "text"
      },
      "source": [
        "<a href=\"https://colab.research.google.com/github/TRoYals/My_Algo_Lib/blob/main/LSTM.ipynb\" target=\"_parent\"><img src=\"https://colab.research.google.com/assets/colab-badge.svg\" alt=\"Open In Colab\"/></a>"
      ]
    },
    {
      "cell_type": "markdown",
      "source": [
        "# LSTM预测ETH价格"
      ],
      "metadata": {
        "id": "WmMNEJKlllfO"
      }
    },
    {
      "cell_type": "markdown",
      "source": [
        "## 包导入"
      ],
      "metadata": {
        "id": "rNJ8bwGjlqaS"
      }
    },
    {
      "cell_type": "code",
      "execution_count": null,
      "metadata": {
        "id": "DR4-3XZWlkyY"
      },
      "outputs": [],
      "source": [
        "import numpy as np \n",
        "import pandas as pd \n"
      ]
    },
    {
      "cell_type": "code",
      "source": [
        "\n",
        "import torch\n",
        "import torch.nn as nn\n",
        "import torch.nn.functional as F\n",
        "import torch.optim as optim\n",
        "from torch.utils.data import Dataset\n",
        "from torch.utils.data import DataLoader\n",
        "\n",
        "# pip instll matplotlib\n",
        "import matplotlib.pyplot as plt\n",
        "from matplotlib.pyplot import figure\n",
        "\n",
        "import seaborn as sns"
      ],
      "metadata": {
        "id": "feivlC-RlvNd"
      },
      "execution_count": null,
      "outputs": []
    },
    {
      "cell_type": "code",
      "source": [
        "from sklearn.preprocessing import MinMaxScaler\n"
      ],
      "metadata": {
        "id": "5JoROjUDl1hP"
      },
      "execution_count": null,
      "outputs": []
    },
    {
      "cell_type": "markdown",
      "source": [
        "## 数据导入和初步处理\n"
      ],
      "metadata": {
        "id": "X0RuiM7Dl6BL"
      }
    },
    {
      "cell_type": "code",
      "source": [
        "csv_path = \"https://raw.githubusercontent.com/TRoYals/LSTM_ETH/master/data/eth-usd-max.csv\"\n",
        "# csv_path = \"https://raw.githubusercontent.com/curiousily/Deep-Learning-For-Hackers/master/data/3.stock-prediction/BTC-USD.csv\"\n",
        "data = pd.read_csv(csv_path, parse_dates=['snapped_at'])\n",
        "data = data.sort_values('snapped_at')\n",
        "data.head()"
      ],
      "metadata": {
        "colab": {
          "base_uri": "https://localhost:8080/"
        },
        "id": "Tmr3kqf_l5k2",
        "outputId": "b1a1e855-b372-46fb-d328-0fa2eac9e27d"
      },
      "execution_count": null,
      "outputs": [
        {
          "output_type": "execute_result",
          "data": {
            "text/plain": [
              "                 snapped_at     price    market_cap  total_volume\n",
              "0 2015-08-07 00:00:00+00:00  2.831620  0.000000e+00  9.062200e+04\n",
              "1 2015-08-08 00:00:00+00:00  1.330750  8.033948e+07  3.680700e+05\n",
              "2 2015-08-10 00:00:00+00:00  0.687586  4.155631e+07  4.004641e+05\n",
              "3 2015-08-11 00:00:00+00:00  1.067379  6.453901e+07  1.518998e+06\n",
              "4 2015-08-12 00:00:00+00:00  1.256613  7.601326e+07  2.073893e+06"
            ],
            "text/html": [
              "\n",
              "  <div id=\"df-a293128e-1af8-4c38-a8c5-d8d99ccc9aca\">\n",
              "    <div class=\"colab-df-container\">\n",
              "      <div>\n",
              "<style scoped>\n",
              "    .dataframe tbody tr th:only-of-type {\n",
              "        vertical-align: middle;\n",
              "    }\n",
              "\n",
              "    .dataframe tbody tr th {\n",
              "        vertical-align: top;\n",
              "    }\n",
              "\n",
              "    .dataframe thead th {\n",
              "        text-align: right;\n",
              "    }\n",
              "</style>\n",
              "<table border=\"1\" class=\"dataframe\">\n",
              "  <thead>\n",
              "    <tr style=\"text-align: right;\">\n",
              "      <th></th>\n",
              "      <th>snapped_at</th>\n",
              "      <th>price</th>\n",
              "      <th>market_cap</th>\n",
              "      <th>total_volume</th>\n",
              "    </tr>\n",
              "  </thead>\n",
              "  <tbody>\n",
              "    <tr>\n",
              "      <th>0</th>\n",
              "      <td>2015-08-07 00:00:00+00:00</td>\n",
              "      <td>2.831620</td>\n",
              "      <td>0.000000e+00</td>\n",
              "      <td>9.062200e+04</td>\n",
              "    </tr>\n",
              "    <tr>\n",
              "      <th>1</th>\n",
              "      <td>2015-08-08 00:00:00+00:00</td>\n",
              "      <td>1.330750</td>\n",
              "      <td>8.033948e+07</td>\n",
              "      <td>3.680700e+05</td>\n",
              "    </tr>\n",
              "    <tr>\n",
              "      <th>2</th>\n",
              "      <td>2015-08-10 00:00:00+00:00</td>\n",
              "      <td>0.687586</td>\n",
              "      <td>4.155631e+07</td>\n",
              "      <td>4.004641e+05</td>\n",
              "    </tr>\n",
              "    <tr>\n",
              "      <th>3</th>\n",
              "      <td>2015-08-11 00:00:00+00:00</td>\n",
              "      <td>1.067379</td>\n",
              "      <td>6.453901e+07</td>\n",
              "      <td>1.518998e+06</td>\n",
              "    </tr>\n",
              "    <tr>\n",
              "      <th>4</th>\n",
              "      <td>2015-08-12 00:00:00+00:00</td>\n",
              "      <td>1.256613</td>\n",
              "      <td>7.601326e+07</td>\n",
              "      <td>2.073893e+06</td>\n",
              "    </tr>\n",
              "  </tbody>\n",
              "</table>\n",
              "</div>\n",
              "      <button class=\"colab-df-convert\" onclick=\"convertToInteractive('df-a293128e-1af8-4c38-a8c5-d8d99ccc9aca')\"\n",
              "              title=\"Convert this dataframe to an interactive table.\"\n",
              "              style=\"display:none;\">\n",
              "        \n",
              "  <svg xmlns=\"http://www.w3.org/2000/svg\" height=\"24px\"viewBox=\"0 0 24 24\"\n",
              "       width=\"24px\">\n",
              "    <path d=\"M0 0h24v24H0V0z\" fill=\"none\"/>\n",
              "    <path d=\"M18.56 5.44l.94 2.06.94-2.06 2.06-.94-2.06-.94-.94-2.06-.94 2.06-2.06.94zm-11 1L8.5 8.5l.94-2.06 2.06-.94-2.06-.94L8.5 2.5l-.94 2.06-2.06.94zm10 10l.94 2.06.94-2.06 2.06-.94-2.06-.94-.94-2.06-.94 2.06-2.06.94z\"/><path d=\"M17.41 7.96l-1.37-1.37c-.4-.4-.92-.59-1.43-.59-.52 0-1.04.2-1.43.59L10.3 9.45l-7.72 7.72c-.78.78-.78 2.05 0 2.83L4 21.41c.39.39.9.59 1.41.59.51 0 1.02-.2 1.41-.59l7.78-7.78 2.81-2.81c.8-.78.8-2.07 0-2.86zM5.41 20L4 18.59l7.72-7.72 1.47 1.35L5.41 20z\"/>\n",
              "  </svg>\n",
              "      </button>\n",
              "      \n",
              "  <style>\n",
              "    .colab-df-container {\n",
              "      display:flex;\n",
              "      flex-wrap:wrap;\n",
              "      gap: 12px;\n",
              "    }\n",
              "\n",
              "    .colab-df-convert {\n",
              "      background-color: #E8F0FE;\n",
              "      border: none;\n",
              "      border-radius: 50%;\n",
              "      cursor: pointer;\n",
              "      display: none;\n",
              "      fill: #1967D2;\n",
              "      height: 32px;\n",
              "      padding: 0 0 0 0;\n",
              "      width: 32px;\n",
              "    }\n",
              "\n",
              "    .colab-df-convert:hover {\n",
              "      background-color: #E2EBFA;\n",
              "      box-shadow: 0px 1px 2px rgba(60, 64, 67, 0.3), 0px 1px 3px 1px rgba(60, 64, 67, 0.15);\n",
              "      fill: #174EA6;\n",
              "    }\n",
              "\n",
              "    [theme=dark] .colab-df-convert {\n",
              "      background-color: #3B4455;\n",
              "      fill: #D2E3FC;\n",
              "    }\n",
              "\n",
              "    [theme=dark] .colab-df-convert:hover {\n",
              "      background-color: #434B5C;\n",
              "      box-shadow: 0px 1px 3px 1px rgba(0, 0, 0, 0.15);\n",
              "      filter: drop-shadow(0px 1px 2px rgba(0, 0, 0, 0.3));\n",
              "      fill: #FFFFFF;\n",
              "    }\n",
              "  </style>\n",
              "\n",
              "      <script>\n",
              "        const buttonEl =\n",
              "          document.querySelector('#df-a293128e-1af8-4c38-a8c5-d8d99ccc9aca button.colab-df-convert');\n",
              "        buttonEl.style.display =\n",
              "          google.colab.kernel.accessAllowed ? 'block' : 'none';\n",
              "\n",
              "        async function convertToInteractive(key) {\n",
              "          const element = document.querySelector('#df-a293128e-1af8-4c38-a8c5-d8d99ccc9aca');\n",
              "          const dataTable =\n",
              "            await google.colab.kernel.invokeFunction('convertToInteractive',\n",
              "                                                     [key], {});\n",
              "          if (!dataTable) return;\n",
              "\n",
              "          const docLinkHtml = 'Like what you see? Visit the ' +\n",
              "            '<a target=\"_blank\" href=https://colab.research.google.com/notebooks/data_table.ipynb>data table notebook</a>'\n",
              "            + ' to learn more about interactive tables.';\n",
              "          element.innerHTML = '';\n",
              "          dataTable['output_type'] = 'display_data';\n",
              "          await google.colab.output.renderOutput(dataTable, element);\n",
              "          const docLink = document.createElement('div');\n",
              "          docLink.innerHTML = docLinkHtml;\n",
              "          element.appendChild(docLink);\n",
              "        }\n",
              "      </script>\n",
              "    </div>\n",
              "  </div>\n",
              "  "
            ]
          },
          "metadata": {},
          "execution_count": 6
        }
      ]
    },
    {
      "cell_type": "code",
      "source": [
        "data= data.rename(columns={\"snapped_at\":\"Date\",\"market_cap\":\"market\",\"total_volume\":\"volume\"})"
      ],
      "metadata": {
        "id": "pKNT7RiVmHWw"
      },
      "execution_count": null,
      "outputs": []
    },
    {
      "cell_type": "code",
      "source": [
        "# 考虑到训练效果，只取后2k天的数据\n",
        "data=data[1000:3000]"
      ],
      "metadata": {
        "id": "SQ1yM18NmIvW"
      },
      "execution_count": null,
      "outputs": []
    },
    {
      "cell_type": "code",
      "source": [
        "data.reset_index(drop=True, inplace=True)\n",
        "data[\"Date\"] = data[\"Date\"].astype(str).str[:10]"
      ],
      "metadata": {
        "id": "aXTT1nDymNb9"
      },
      "execution_count": null,
      "outputs": []
    },
    {
      "cell_type": "code",
      "source": [
        "data.shape"
      ],
      "metadata": {
        "colab": {
          "base_uri": "https://localhost:8080/"
        },
        "id": "ZtMoQIBSmQKB",
        "outputId": "29c55d9c-064e-4889-8efd-715777e5c791"
      },
      "execution_count": null,
      "outputs": [
        {
          "output_type": "execute_result",
          "data": {
            "text/plain": [
              "(1802, 4)"
            ]
          },
          "metadata": {},
          "execution_count": 10
        }
      ]
    },
    {
      "cell_type": "code",
      "source": [
        "data.head()"
      ],
      "metadata": {
        "colab": {
          "base_uri": "https://localhost:8080/"
        },
        "id": "UjwFu2PnmROT",
        "outputId": "3daaf71c-d546-438e-cd1b-61500d2e7ad4"
      },
      "execution_count": null,
      "outputs": [
        {
          "output_type": "execute_result",
          "data": {
            "text/plain": [
              "         Date       price        market        volume\n",
              "0  2018-05-04  781.425780  7.752658e+10  1.005515e+09\n",
              "1  2018-05-05  777.907647  7.719438e+10  1.967183e+09\n",
              "2  2018-05-06  807.067329  8.010468e+10  1.617672e+09\n",
              "3  2018-05-07  785.892744  7.801932e+10  1.742487e+09\n",
              "4  2018-05-08  748.813141  7.435370e+10  2.808728e+09"
            ],
            "text/html": [
              "\n",
              "  <div id=\"df-aabd3d33-5b7b-477f-9104-ac3645c00a74\">\n",
              "    <div class=\"colab-df-container\">\n",
              "      <div>\n",
              "<style scoped>\n",
              "    .dataframe tbody tr th:only-of-type {\n",
              "        vertical-align: middle;\n",
              "    }\n",
              "\n",
              "    .dataframe tbody tr th {\n",
              "        vertical-align: top;\n",
              "    }\n",
              "\n",
              "    .dataframe thead th {\n",
              "        text-align: right;\n",
              "    }\n",
              "</style>\n",
              "<table border=\"1\" class=\"dataframe\">\n",
              "  <thead>\n",
              "    <tr style=\"text-align: right;\">\n",
              "      <th></th>\n",
              "      <th>Date</th>\n",
              "      <th>price</th>\n",
              "      <th>market</th>\n",
              "      <th>volume</th>\n",
              "    </tr>\n",
              "  </thead>\n",
              "  <tbody>\n",
              "    <tr>\n",
              "      <th>0</th>\n",
              "      <td>2018-05-04</td>\n",
              "      <td>781.425780</td>\n",
              "      <td>7.752658e+10</td>\n",
              "      <td>1.005515e+09</td>\n",
              "    </tr>\n",
              "    <tr>\n",
              "      <th>1</th>\n",
              "      <td>2018-05-05</td>\n",
              "      <td>777.907647</td>\n",
              "      <td>7.719438e+10</td>\n",
              "      <td>1.967183e+09</td>\n",
              "    </tr>\n",
              "    <tr>\n",
              "      <th>2</th>\n",
              "      <td>2018-05-06</td>\n",
              "      <td>807.067329</td>\n",
              "      <td>8.010468e+10</td>\n",
              "      <td>1.617672e+09</td>\n",
              "    </tr>\n",
              "    <tr>\n",
              "      <th>3</th>\n",
              "      <td>2018-05-07</td>\n",
              "      <td>785.892744</td>\n",
              "      <td>7.801932e+10</td>\n",
              "      <td>1.742487e+09</td>\n",
              "    </tr>\n",
              "    <tr>\n",
              "      <th>4</th>\n",
              "      <td>2018-05-08</td>\n",
              "      <td>748.813141</td>\n",
              "      <td>7.435370e+10</td>\n",
              "      <td>2.808728e+09</td>\n",
              "    </tr>\n",
              "  </tbody>\n",
              "</table>\n",
              "</div>\n",
              "      <button class=\"colab-df-convert\" onclick=\"convertToInteractive('df-aabd3d33-5b7b-477f-9104-ac3645c00a74')\"\n",
              "              title=\"Convert this dataframe to an interactive table.\"\n",
              "              style=\"display:none;\">\n",
              "        \n",
              "  <svg xmlns=\"http://www.w3.org/2000/svg\" height=\"24px\"viewBox=\"0 0 24 24\"\n",
              "       width=\"24px\">\n",
              "    <path d=\"M0 0h24v24H0V0z\" fill=\"none\"/>\n",
              "    <path d=\"M18.56 5.44l.94 2.06.94-2.06 2.06-.94-2.06-.94-.94-2.06-.94 2.06-2.06.94zm-11 1L8.5 8.5l.94-2.06 2.06-.94-2.06-.94L8.5 2.5l-.94 2.06-2.06.94zm10 10l.94 2.06.94-2.06 2.06-.94-2.06-.94-.94-2.06-.94 2.06-2.06.94z\"/><path d=\"M17.41 7.96l-1.37-1.37c-.4-.4-.92-.59-1.43-.59-.52 0-1.04.2-1.43.59L10.3 9.45l-7.72 7.72c-.78.78-.78 2.05 0 2.83L4 21.41c.39.39.9.59 1.41.59.51 0 1.02-.2 1.41-.59l7.78-7.78 2.81-2.81c.8-.78.8-2.07 0-2.86zM5.41 20L4 18.59l7.72-7.72 1.47 1.35L5.41 20z\"/>\n",
              "  </svg>\n",
              "      </button>\n",
              "      \n",
              "  <style>\n",
              "    .colab-df-container {\n",
              "      display:flex;\n",
              "      flex-wrap:wrap;\n",
              "      gap: 12px;\n",
              "    }\n",
              "\n",
              "    .colab-df-convert {\n",
              "      background-color: #E8F0FE;\n",
              "      border: none;\n",
              "      border-radius: 50%;\n",
              "      cursor: pointer;\n",
              "      display: none;\n",
              "      fill: #1967D2;\n",
              "      height: 32px;\n",
              "      padding: 0 0 0 0;\n",
              "      width: 32px;\n",
              "    }\n",
              "\n",
              "    .colab-df-convert:hover {\n",
              "      background-color: #E2EBFA;\n",
              "      box-shadow: 0px 1px 2px rgba(60, 64, 67, 0.3), 0px 1px 3px 1px rgba(60, 64, 67, 0.15);\n",
              "      fill: #174EA6;\n",
              "    }\n",
              "\n",
              "    [theme=dark] .colab-df-convert {\n",
              "      background-color: #3B4455;\n",
              "      fill: #D2E3FC;\n",
              "    }\n",
              "\n",
              "    [theme=dark] .colab-df-convert:hover {\n",
              "      background-color: #434B5C;\n",
              "      box-shadow: 0px 1px 3px 1px rgba(0, 0, 0, 0.15);\n",
              "      filter: drop-shadow(0px 1px 2px rgba(0, 0, 0, 0.3));\n",
              "      fill: #FFFFFF;\n",
              "    }\n",
              "  </style>\n",
              "\n",
              "      <script>\n",
              "        const buttonEl =\n",
              "          document.querySelector('#df-aabd3d33-5b7b-477f-9104-ac3645c00a74 button.colab-df-convert');\n",
              "        buttonEl.style.display =\n",
              "          google.colab.kernel.accessAllowed ? 'block' : 'none';\n",
              "\n",
              "        async function convertToInteractive(key) {\n",
              "          const element = document.querySelector('#df-aabd3d33-5b7b-477f-9104-ac3645c00a74');\n",
              "          const dataTable =\n",
              "            await google.colab.kernel.invokeFunction('convertToInteractive',\n",
              "                                                     [key], {});\n",
              "          if (!dataTable) return;\n",
              "\n",
              "          const docLinkHtml = 'Like what you see? Visit the ' +\n",
              "            '<a target=\"_blank\" href=https://colab.research.google.com/notebooks/data_table.ipynb>data table notebook</a>'\n",
              "            + ' to learn more about interactive tables.';\n",
              "          element.innerHTML = '';\n",
              "          dataTable['output_type'] = 'display_data';\n",
              "          await google.colab.output.renderOutput(dataTable, element);\n",
              "          const docLink = document.createElement('div');\n",
              "          docLink.innerHTML = docLinkHtml;\n",
              "          element.appendChild(docLink);\n",
              "        }\n",
              "      </script>\n",
              "    </div>\n",
              "  </div>\n",
              "  "
            ]
          },
          "metadata": {},
          "execution_count": 11
        }
      ]
    },
    {
      "cell_type": "markdown",
      "source": [
        "### ETH走势图——基本图\n"
      ],
      "metadata": {
        "id": "dV_Lji-pmTqy"
      }
    },
    {
      "cell_type": "code",
      "source": [
        "fig = figure(figsize=(25, 5), dpi=80)\n",
        "fig.patch.set_facecolor((1.0, 1.0, 1.0))\n",
        "plt.plot(data[['price']], label=\"Prices\")\n",
        "plt.xticks(range(0,data.shape[0],30), data['Date'].loc[::30], rotation=45)\n",
        "\n",
        "plt.title(\"Daily close prices for  \"+\"ETH - showing training and validation data\")\n",
        "plt.grid( which='major', axis='y', linestyle='--')\n",
        "plt.legend()\n",
        "plt.show()"
      ],
      "metadata": {
        "colab": {
          "base_uri": "https://localhost:8080/"
        },
        "id": "CFRrgvEBmTD6",
        "outputId": "4d1b1882-0381-414c-9bbb-78f82d366c1f"
      },
      "execution_count": null,
      "outputs": [
        {
          "output_type": "display_data",
          "data": {
            "text/plain": [
              "<Figure size 2000x400 with 1 Axes>"
            ],
            "image/png": "[encoded data removed]"
          },
          "metadata": {}
        }
      ]
    },
    {
      "cell_type": "markdown",
      "source": [
        "## 特征工程\n",
        "数据归一化处理\n"
      ],
      "metadata": {
        "id": "i-7qZn3Rmfl1"
      }
    },
    {
      "cell_type": "code",
      "source": [
        "price = data[['price', 'volume',\"market\"]]\n",
        "price"
      ],
      "metadata": {
        "colab": {
          "base_uri": "https://localhost:8080/"
        },
        "id": "4bCcONafmmA0",
        "outputId": "40e8b700-bc8e-4378-fe28-f3237311ebca"
      },
      "execution_count": null,
      "outputs": [
        {
          "output_type": "execute_result",
          "data": {
            "text/plain": [
              "            price        volume        market\n",
              "0      781.425780  1.005515e+09  7.752658e+10\n",
              "1      777.907647  1.967183e+09  7.719438e+10\n",
              "2      807.067329  1.617672e+09  8.010468e+10\n",
              "3      785.892744  1.742487e+09  7.801932e+10\n",
              "4      748.813141  2.808728e+09  7.435370e+10\n",
              "...           ...           ...           ...\n",
              "1797  1871.333526  1.158051e+10  2.252579e+11\n",
              "1798  1911.338690  1.158648e+10  2.303701e+11\n",
              "1799  1872.246682  9.208409e+09  2.255496e+11\n",
              "1800  1866.657545  9.298216e+09  2.248847e+11\n",
              "1801  1851.050671  5.970294e+09  2.231692e+11\n",
              "\n",
              "[1802 rows x 3 columns]"
            ],
            "text/html": [
              "\n",
              "  <div id=\"df-9e90f3a5-ad97-45f9-950e-615786405cc6\">\n",
              "    <div class=\"colab-df-container\">\n",
              "      <div>\n",
              "<style scoped>\n",
              "    .dataframe tbody tr th:only-of-type {\n",
              "        vertical-align: middle;\n",
              "    }\n",
              "\n",
              "    .dataframe tbody tr th {\n",
              "        vertical-align: top;\n",
              "    }\n",
              "\n",
              "    .dataframe thead th {\n",
              "        text-align: right;\n",
              "    }\n",
              "</style>\n",
              "<table border=\"1\" class=\"dataframe\">\n",
              "  <thead>\n",
              "    <tr style=\"text-align: right;\">\n",
              "      <th></th>\n",
              "      <th>price</th>\n",
              "      <th>volume</th>\n",
              "      <th>market</th>\n",
              "    </tr>\n",
              "  </thead>\n",
              "  <tbody>\n",
              "    <tr>\n",
              "      <th>0</th>\n",
              "      <td>781.425780</td>\n",
              "      <td>1.005515e+09</td>\n",
              "      <td>7.752658e+10</td>\n",
              "    </tr>\n",
              "    <tr>\n",
              "      <th>1</th>\n",
              "      <td>777.907647</td>\n",
              "      <td>1.967183e+09</td>\n",
              "      <td>7.719438e+10</td>\n",
              "    </tr>\n",
              "    <tr>\n",
              "      <th>2</th>\n",
              "      <td>807.067329</td>\n",
              "      <td>1.617672e+09</td>\n",
              "      <td>8.010468e+10</td>\n",
              "    </tr>\n",
              "    <tr>\n",
              "      <th>3</th>\n",
              "      <td>785.892744</td>\n",
              "      <td>1.742487e+09</td>\n",
              "      <td>7.801932e+10</td>\n",
              "    </tr>\n",
              "    <tr>\n",
              "      <th>4</th>\n",
              "      <td>748.813141</td>\n",
              "      <td>2.808728e+09</td>\n",
              "      <td>7.435370e+10</td>\n",
              "    </tr>\n",
              "    <tr>\n",
              "      <th>...</th>\n",
              "      <td>...</td>\n",
              "      <td>...</td>\n",
              "      <td>...</td>\n",
              "    </tr>\n",
              "    <tr>\n",
              "      <th>1797</th>\n",
              "      <td>1871.333526</td>\n",
              "      <td>1.158051e+10</td>\n",
              "      <td>2.252579e+11</td>\n",
              "    </tr>\n",
              "    <tr>\n",
              "      <th>1798</th>\n",
              "      <td>1911.338690</td>\n",
              "      <td>1.158648e+10</td>\n",
              "      <td>2.303701e+11</td>\n",
              "    </tr>\n",
              "    <tr>\n",
              "      <th>1799</th>\n",
              "      <td>1872.246682</td>\n",
              "      <td>9.208409e+09</td>\n",
              "      <td>2.255496e+11</td>\n",
              "    </tr>\n",
              "    <tr>\n",
              "      <th>1800</th>\n",
              "      <td>1866.657545</td>\n",
              "      <td>9.298216e+09</td>\n",
              "      <td>2.248847e+11</td>\n",
              "    </tr>\n",
              "    <tr>\n",
              "      <th>1801</th>\n",
              "      <td>1851.050671</td>\n",
              "      <td>5.970294e+09</td>\n",
              "      <td>2.231692e+11</td>\n",
              "    </tr>\n",
              "  </tbody>\n",
              "</table>\n",
              "<p>1802 rows × 3 columns</p>\n",
              "</div>\n",
              "      <button class=\"colab-df-convert\" onclick=\"convertToInteractive('df-9e90f3a5-ad97-45f9-950e-615786405cc6')\"\n",
              "              title=\"Convert this dataframe to an interactive table.\"\n",
              "              style=\"display:none;\">\n",
              "        \n",
              "  <svg xmlns=\"http://www.w3.org/2000/svg\" height=\"24px\"viewBox=\"0 0 24 24\"\n",
              "       width=\"24px\">\n",
              "    <path d=\"M0 0h24v24H0V0z\" fill=\"none\"/>\n",
              "    <path d=\"M18.56 5.44l.94 2.06.94-2.06 2.06-.94-2.06-.94-.94-2.06-.94 2.06-2.06.94zm-11 1L8.5 8.5l.94-2.06 2.06-.94-2.06-.94L8.5 2.5l-.94 2.06-2.06.94zm10 10l.94 2.06.94-2.06 2.06-.94-2.06-.94-.94-2.06-.94 2.06-2.06.94z\"/><path d=\"M17.41 7.96l-1.37-1.37c-.4-.4-.92-.59-1.43-.59-.52 0-1.04.2-1.43.59L10.3 9.45l-7.72 7.72c-.78.78-.78 2.05 0 2.83L4 21.41c.39.39.9.59 1.41.59.51 0 1.02-.2 1.41-.59l7.78-7.78 2.81-2.81c.8-.78.8-2.07 0-2.86zM5.41 20L4 18.59l7.72-7.72 1.47 1.35L5.41 20z\"/>\n",
              "  </svg>\n",
              "      </button>\n",
              "      \n",
              "  <style>\n",
              "    .colab-df-container {\n",
              "      display:flex;\n",
              "      flex-wrap:wrap;\n",
              "      gap: 12px;\n",
              "    }\n",
              "\n",
              "    .colab-df-convert {\n",
              "      background-color: #E8F0FE;\n",
              "      border: none;\n",
              "      border-radius: 50%;\n",
              "      cursor: pointer;\n",
              "      display: none;\n",
              "      fill: #1967D2;\n",
              "      height: 32px;\n",
              "      padding: 0 0 0 0;\n",
              "      width: 32px;\n",
              "    }\n",
              "\n",
              "    .colab-df-convert:hover {\n",
              "      background-color: #E2EBFA;\n",
              "      box-shadow: 0px 1px 2px rgba(60, 64, 67, 0.3), 0px 1px 3px 1px rgba(60, 64, 67, 0.15);\n",
              "      fill: #174EA6;\n",
              "    }\n",
              "\n",
              "    [theme=dark] .colab-df-convert {\n",
              "      background-color: #3B4455;\n",
              "      fill: #D2E3FC;\n",
              "    }\n",
              "\n",
              "    [theme=dark] .colab-df-convert:hover {\n",
              "      background-color: #434B5C;\n",
              "      box-shadow: 0px 1px 3px 1px rgba(0, 0, 0, 0.15);\n",
              "      filter: drop-shadow(0px 1px 2px rgba(0, 0, 0, 0.3));\n",
              "      fill: #FFFFFF;\n",
              "    }\n",
              "  </style>\n",
              "\n",
              "      <script>\n",
              "        const buttonEl =\n",
              "          document.querySelector('#df-9e90f3a5-ad97-45f9-950e-615786405cc6 button.colab-df-convert');\n",
              "        buttonEl.style.display =\n",
              "          google.colab.kernel.accessAllowed ? 'block' : 'none';\n",
              "\n",
              "        async function convertToInteractive(key) {\n",
              "          const element = document.querySelector('#df-9e90f3a5-ad97-45f9-950e-615786405cc6');\n",
              "          const dataTable =\n",
              "            await google.colab.kernel.invokeFunction('convertToInteractive',\n",
              "                                                     [key], {});\n",
              "          if (!dataTable) return;\n",
              "\n",
              "          const docLinkHtml = 'Like what you see? Visit the ' +\n",
              "            '<a target=\"_blank\" href=https://colab.research.google.com/notebooks/data_table.ipynb>data table notebook</a>'\n",
              "            + ' to learn more about interactive tables.';\n",
              "          element.innerHTML = '';\n",
              "          dataTable['output_type'] = 'display_data';\n",
              "          await google.colab.output.renderOutput(dataTable, element);\n",
              "          const docLink = document.createElement('div');\n",
              "          docLink.innerHTML = docLinkHtml;\n",
              "          element.appendChild(docLink);\n",
              "        }\n",
              "      </script>\n",
              "    </div>\n",
              "  </div>\n",
              "  "
            ]
          },
          "metadata": {},
          "execution_count": 13
        }
      ]
    },
    {
      "cell_type": "code",
      "source": [
        "scaler1 = MinMaxScaler(feature_range=(-1, 1))\n",
        "price['price'] = scaler1.fit_transform(price['price'].values.reshape(-1,1))\n"
      ],
      "metadata": {
        "colab": {
          "base_uri": "https://localhost:8080/"
        },
        "id": "pReTvPwFmxbw",
        "outputId": "a3230d1a-f308-43aa-f101-90da9e8caec8"
      },
      "execution_count": null,
      "outputs": [
        {
          "output_type": "stream",
          "name": "stderr",
          "text": [
            "<ipython-input-14-6d7426eb883f>:2: SettingWithCopyWarning: \n",
            "A value is trying to be set on a copy of a slice from a DataFrame.\n",
            "Try using .loc[row_indexer,col_indexer] = value instead\n",
            "\n",
            "See the caveats in the documentation: https://pandas.pydata.org/pandas-docs/stable/user_guide/indexing.html#returning-a-view-versus-a-copy\n",
            "  price['price'] = scaler1.fit_transform(price['price'].values.reshape(-1,1))\n"
          ]
        }
      ]
    },
    {
      "cell_type": "code",
      "source": [
        "scaler2 = MinMaxScaler(feature_range=(-1, 1))\n"
      ],
      "metadata": {
        "id": "WvJAgRQWt__P"
      },
      "execution_count": null,
      "outputs": []
    },
    {
      "cell_type": "code",
      "source": [
        "price['volume'] = scaler2.fit_transform(price['volume'].values.reshape(-1,1))\n",
        "scaler3 = MinMaxScaler(feature_range=(-1, 1))\n",
        "\n",
        "price['market'] = scaler3.fit_transform(price['market'].values.reshape(-1,1))\n"
      ],
      "metadata": {
        "colab": {
          "base_uri": "https://localhost:8080/"
        },
        "id": "cg_ZlnPSm4Ax",
        "outputId": "9fa5e45f-57ea-4453-f3f1-4c0369e294e4"
      },
      "execution_count": null,
      "outputs": [
        {
          "output_type": "stream",
          "name": "stderr",
          "text": [
            "<ipython-input-16-497033f4a213>:1: SettingWithCopyWarning: \n",
            "A value is trying to be set on a copy of a slice from a DataFrame.\n",
            "Try using .loc[row_indexer,col_indexer] = value instead\n",
            "\n",
            "See the caveats in the documentation: https://pandas.pydata.org/pandas-docs/stable/user_guide/indexing.html#returning-a-view-versus-a-copy\n",
            "  price['volume'] = scaler2.fit_transform(price['volume'].values.reshape(-1,1))\n",
            "<ipython-input-16-497033f4a213>:4: SettingWithCopyWarning: \n",
            "A value is trying to be set on a copy of a slice from a DataFrame.\n",
            "Try using .loc[row_indexer,col_indexer] = value instead\n",
            "\n",
            "See the caveats in the documentation: https://pandas.pydata.org/pandas-docs/stable/user_guide/indexing.html#returning-a-view-versus-a-copy\n",
            "  price['market'] = scaler3.fit_transform(price['market'].values.reshape(-1,1))\n"
          ]
        }
      ]
    },
    {
      "cell_type": "code",
      "source": [
        "price.info()"
      ],
      "metadata": {
        "colab": {
          "base_uri": "https://localhost:8080/"
        },
        "id": "rlFd2xyrm9AR",
        "outputId": "62006b84-aeba-4d55-b700-daf065548946"
      },
      "execution_count": null,
      "outputs": [
        {
          "output_type": "stream",
          "name": "stdout",
          "text": [
            "<class 'pandas.core.frame.DataFrame'>\n",
            "RangeIndex: 1802 entries, 0 to 1801\n",
            "Data columns (total 3 columns):\n",
            " #   Column  Non-Null Count  Dtype  \n",
            "---  ------  --------------  -----  \n",
            " 0   price   1802 non-null   float64\n",
            " 1   volume  1802 non-null   float64\n",
            " 2   market  1802 non-null   float64\n",
            "dtypes: float64(3)\n",
            "memory usage: 42.4 KB\n"
          ]
        }
      ]
    },
    {
      "cell_type": "markdown",
      "source": [
        "#  LSTM"
      ],
      "metadata": {
        "id": "C6-J0_6EooOz"
      }
    },
    {
      "cell_type": "markdown",
      "source": [
        "## 数据集制作\n"
      ],
      "metadata": {
        "id": "-EdRoIu1nOeg"
      }
    },
    {
      "cell_type": "code",
      "source": [
        "price"
      ],
      "metadata": {
        "colab": {
          "base_uri": "https://localhost:8080/",
          "height": 424
        },
        "id": "TH0GFq7-naq5",
        "outputId": "cd44af3f-941d-4adc-ab73-21a10d2a7695"
      },
      "execution_count": null,
      "outputs": [
        {
          "output_type": "execute_result",
          "data": {
            "text/plain": [
              "         price    volume    market\n",
              "0    -0.705091 -0.995289 -0.755476\n",
              "1    -0.706578 -0.981573 -0.756656\n",
              "2    -0.694252 -0.986558 -0.746317\n",
              "3    -0.703203 -0.984778 -0.753726\n",
              "4    -0.718877 -0.969571 -0.766748\n",
              "...        ...       ...       ...\n",
              "1797 -0.244361 -0.844467 -0.230647\n",
              "1798 -0.227449 -0.844382 -0.212485\n",
              "1799 -0.243975 -0.878298 -0.229610\n",
              "1800 -0.246337 -0.877017 -0.231972\n",
              "1801 -0.252935 -0.924480 -0.238067\n",
              "\n",
              "[1802 rows x 3 columns]"
            ],
            "text/html": [
              "\n",
              "  <div id=\"df-7be7f797-8ea8-49ad-971b-cb5f021207f2\">\n",
              "    <div class=\"colab-df-container\">\n",
              "      <div>\n",
              "<style scoped>\n",
              "    .dataframe tbody tr th:only-of-type {\n",
              "        vertical-align: middle;\n",
              "    }\n",
              "\n",
              "    .dataframe tbody tr th {\n",
              "        vertical-align: top;\n",
              "    }\n",
              "\n",
              "    .dataframe thead th {\n",
              "        text-align: right;\n",
              "    }\n",
              "</style>\n",
              "<table border=\"1\" class=\"dataframe\">\n",
              "  <thead>\n",
              "    <tr style=\"text-align: right;\">\n",
              "      <th></th>\n",
              "      <th>price</th>\n",
              "      <th>volume</th>\n",
              "      <th>market</th>\n",
              "    </tr>\n",
              "  </thead>\n",
              "  <tbody>\n",
              "    <tr>\n",
              "      <th>0</th>\n",
              "      <td>-0.705091</td>\n",
              "      <td>-0.995289</td>\n",
              "      <td>-0.755476</td>\n",
              "    </tr>\n",
              "    <tr>\n",
              "      <th>1</th>\n",
              "      <td>-0.706578</td>\n",
              "      <td>-0.981573</td>\n",
              "      <td>-0.756656</td>\n",
              "    </tr>\n",
              "    <tr>\n",
              "      <th>2</th>\n",
              "      <td>-0.694252</td>\n",
              "      <td>-0.986558</td>\n",
              "      <td>-0.746317</td>\n",
              "    </tr>\n",
              "    <tr>\n",
              "      <th>3</th>\n",
              "      <td>-0.703203</td>\n",
              "      <td>-0.984778</td>\n",
              "      <td>-0.753726</td>\n",
              "    </tr>\n",
              "    <tr>\n",
              "      <th>4</th>\n",
              "      <td>-0.718877</td>\n",
              "      <td>-0.969571</td>\n",
              "      <td>-0.766748</td>\n",
              "    </tr>\n",
              "    <tr>\n",
              "      <th>...</th>\n",
              "      <td>...</td>\n",
              "      <td>...</td>\n",
              "      <td>...</td>\n",
              "    </tr>\n",
              "    <tr>\n",
              "      <th>1797</th>\n",
              "      <td>-0.244361</td>\n",
              "      <td>-0.844467</td>\n",
              "      <td>-0.230647</td>\n",
              "    </tr>\n",
              "    <tr>\n",
              "      <th>1798</th>\n",
              "      <td>-0.227449</td>\n",
              "      <td>-0.844382</td>\n",
              "      <td>-0.212485</td>\n",
              "    </tr>\n",
              "    <tr>\n",
              "      <th>1799</th>\n",
              "      <td>-0.243975</td>\n",
              "      <td>-0.878298</td>\n",
              "      <td>-0.229610</td>\n",
              "    </tr>\n",
              "    <tr>\n",
              "      <th>1800</th>\n",
              "      <td>-0.246337</td>\n",
              "      <td>-0.877017</td>\n",
              "      <td>-0.231972</td>\n",
              "    </tr>\n",
              "    <tr>\n",
              "      <th>1801</th>\n",
              "      <td>-0.252935</td>\n",
              "      <td>-0.924480</td>\n",
              "      <td>-0.238067</td>\n",
              "    </tr>\n",
              "  </tbody>\n",
              "</table>\n",
              "<p>1802 rows × 3 columns</p>\n",
              "</div>\n",
              "      <button class=\"colab-df-convert\" onclick=\"convertToInteractive('df-7be7f797-8ea8-49ad-971b-cb5f021207f2')\"\n",
              "              title=\"Convert this dataframe to an interactive table.\"\n",
              "              style=\"display:none;\">\n",
              "        \n",
              "  <svg xmlns=\"http://www.w3.org/2000/svg\" height=\"24px\"viewBox=\"0 0 24 24\"\n",
              "       width=\"24px\">\n",
              "    <path d=\"M0 0h24v24H0V0z\" fill=\"none\"/>\n",
              "    <path d=\"M18.56 5.44l.94 2.06.94-2.06 2.06-.94-2.06-.94-.94-2.06-.94 2.06-2.06.94zm-11 1L8.5 8.5l.94-2.06 2.06-.94-2.06-.94L8.5 2.5l-.94 2.06-2.06.94zm10 10l.94 2.06.94-2.06 2.06-.94-2.06-.94-.94-2.06-.94 2.06-2.06.94z\"/><path d=\"M17.41 7.96l-1.37-1.37c-.4-.4-.92-.59-1.43-.59-.52 0-1.04.2-1.43.59L10.3 9.45l-7.72 7.72c-.78.78-.78 2.05 0 2.83L4 21.41c.39.39.9.59 1.41.59.51 0 1.02-.2 1.41-.59l7.78-7.78 2.81-2.81c.8-.78.8-2.07 0-2.86zM5.41 20L4 18.59l7.72-7.72 1.47 1.35L5.41 20z\"/>\n",
              "  </svg>\n",
              "      </button>\n",
              "      \n",
              "  <style>\n",
              "    .colab-df-container {\n",
              "      display:flex;\n",
              "      flex-wrap:wrap;\n",
              "      gap: 12px;\n",
              "    }\n",
              "\n",
              "    .colab-df-convert {\n",
              "      background-color: #E8F0FE;\n",
              "      border: none;\n",
              "      border-radius: 50%;\n",
              "      cursor: pointer;\n",
              "      display: none;\n",
              "      fill: #1967D2;\n",
              "      height: 32px;\n",
              "      padding: 0 0 0 0;\n",
              "      width: 32px;\n",
              "    }\n",
              "\n",
              "    .colab-df-convert:hover {\n",
              "      background-color: #E2EBFA;\n",
              "      box-shadow: 0px 1px 2px rgba(60, 64, 67, 0.3), 0px 1px 3px 1px rgba(60, 64, 67, 0.15);\n",
              "      fill: #174EA6;\n",
              "    }\n",
              "\n",
              "    [theme=dark] .colab-df-convert {\n",
              "      background-color: #3B4455;\n",
              "      fill: #D2E3FC;\n",
              "    }\n",
              "\n",
              "    [theme=dark] .colab-df-convert:hover {\n",
              "      background-color: #434B5C;\n",
              "      box-shadow: 0px 1px 3px 1px rgba(0, 0, 0, 0.15);\n",
              "      filter: drop-shadow(0px 1px 2px rgba(0, 0, 0, 0.3));\n",
              "      fill: #FFFFFF;\n",
              "    }\n",
              "  </style>\n",
              "\n",
              "      <script>\n",
              "        const buttonEl =\n",
              "          document.querySelector('#df-7be7f797-8ea8-49ad-971b-cb5f021207f2 button.colab-df-convert');\n",
              "        buttonEl.style.display =\n",
              "          google.colab.kernel.accessAllowed ? 'block' : 'none';\n",
              "\n",
              "        async function convertToInteractive(key) {\n",
              "          const element = document.querySelector('#df-7be7f797-8ea8-49ad-971b-cb5f021207f2');\n",
              "          const dataTable =\n",
              "            await google.colab.kernel.invokeFunction('convertToInteractive',\n",
              "                                                     [key], {});\n",
              "          if (!dataTable) return;\n",
              "\n",
              "          const docLinkHtml = 'Like what you see? Visit the ' +\n",
              "            '<a target=\"_blank\" href=https://colab.research.google.com/notebooks/data_table.ipynb>data table notebook</a>'\n",
              "            + ' to learn more about interactive tables.';\n",
              "          element.innerHTML = '';\n",
              "          dataTable['output_type'] = 'display_data';\n",
              "          await google.colab.output.renderOutput(dataTable, element);\n",
              "          const docLink = document.createElement('div');\n",
              "          docLink.innerHTML = docLinkHtml;\n",
              "          element.appendChild(docLink);\n",
              "        }\n",
              "      </script>\n",
              "    </div>\n",
              "  </div>\n",
              "  "
            ]
          },
          "metadata": {},
          "execution_count": 51
        }
      ]
    },
    {
      "cell_type": "code",
      "source": [
        "def split_data(stock, lookback):\n",
        "    data_raw = stock.to_numpy() \n",
        "    data = []\n",
        "    \n",
        "    # you can free play（seq_length）\n",
        "    for index in range(len(data_raw) - lookback): \n",
        "        data.append(data_raw[index: index + lookback])\n",
        "    \n",
        "    data = np.array(data);\n",
        "    test_set_size = int(np.round(0.2 * data.shape[0]))\n",
        "    train_set_size = data.shape[0] - (test_set_size)\n",
        "    \n",
        "    x_train = data[:train_set_size,:-1,:]\n",
        "    y_train = data[:train_set_size,-1,:]\n",
        "    \n",
        "    x_test = data[train_set_size:,:-1]\n",
        "    y_test = data[train_set_size:,-1,:]\n",
        "    \n",
        "    return [x_train, y_train, x_test, y_test]"
      ],
      "metadata": {
        "id": "xXkEvPgNnRRk"
      },
      "execution_count": null,
      "outputs": []
    },
    {
      "cell_type": "code",
      "source": [
        "lookback = 30\n",
        "x_train, y_train, x_test, y_test = split_data(price, lookback)\n",
        "print('x_train.shape = ',x_train.shape)\n",
        "print('y_train.shape = ',y_train.shape)\n",
        "print('x_test.shape = ',x_test.shape)\n",
        "print('y_test.shape = ',y_test.shape)"
      ],
      "metadata": {
        "colab": {
          "base_uri": "https://localhost:8080/"
        },
        "id": "jt_bue1dpwZ6",
        "outputId": "6cfa72e7-a4a4-4a96-c2f5-0c7c71322b27"
      },
      "execution_count": null,
      "outputs": [
        {
          "output_type": "stream",
          "name": "stdout",
          "text": [
            "x_train.shape =  (1418, 29, 3)\n",
            "y_train.shape =  (1418, 3)\n",
            "x_test.shape =  (354, 29, 3)\n",
            "y_test.shape =  (354, 3)\n"
          ]
        }
      ]
    },
    {
      "cell_type": "code",
      "source": [
        "def split_data(stock, lookback):\n",
        "    data_raw = stock.to_numpy() \n",
        "    data = []\n",
        "    \n",
        "    # you can free play（seq_length）\n",
        "    for index in range(len(data_raw) - lookback): \n",
        "        data.append(data_raw[index: index + lookback])\n",
        "    \n",
        "    data = np.array(data);\n",
        "    test_set_size = int(np.round(0.2 * data.shape[0]))\n",
        "    train_set_size = data.shape[0] - (test_set_size)\n",
        "    \n",
        "    x_train = data[:train_set_size,:-1,:]\n",
        "    y_train = data[:train_set_size,-1,:]\n",
        "    \n",
        "    x_test = data[train_set_size:,:-1]\n",
        "    y_test = data[train_set_size:,-1,:]\n",
        "    \n",
        "    return [x_train, y_train, x_test, y_test]\n"
      ],
      "metadata": {
        "id": "0z39npZPnUab"
      },
      "execution_count": null,
      "outputs": []
    },
    {
      "cell_type": "code",
      "source": [
        "\n",
        "x_train = torch.from_numpy(x_train).type(torch.Tensor)\n",
        "x_test = torch.from_numpy(x_test).type(torch.Tensor)\n",
        "y_train = torch.from_numpy(y_train).type(torch.Tensor)\n",
        "y_test = torch.from_numpy(y_test).type(torch.Tensor)"
      ],
      "metadata": {
        "id": "t8wRN_Zyp87o"
      },
      "execution_count": null,
      "outputs": []
    },
    {
      "cell_type": "code",
      "source": [
        "y_temp=y_train"
      ],
      "metadata": {
        "id": "JTS1CgT6JMT7"
      },
      "execution_count": null,
      "outputs": []
    },
    {
      "cell_type": "code",
      "source": [
        "class LSTM(nn.Module):\n",
        "    def __init__(self, input_dim, hidden_dim, num_layers, output_dim):\n",
        "        super(LSTM, self).__init__()\n",
        "        self.hidden_dim = hidden_dim\n",
        "        self.num_layers = num_layers\n",
        "        self.dropout = nn.Dropout(dropout_prob)\n",
        "        self.lstm = nn.LSTM(input_dim, hidden_dim, num_layers, batch_first=True)\n",
        "        self.fc = nn.Linear(hidden_dim, output_dim)\n",
        "\n",
        "    def forward(self, x):\n",
        "        h0 = torch.zeros(self.num_layers, x.size(0), self.hidden_dim).requires_grad_()\n",
        "        c0 = torch.zeros(self.num_layers, x.size(0), self.hidden_dim).requires_grad_()\n",
        "        out, (hn, cn) = self.lstm(x, (h0.detach(), c0.detach()))\n",
        "        out = self.dropout(out)\n",
        "        out = self.fc(out[:, -1, :]) \n",
        "        return out"
      ],
      "metadata": {
        "id": "LpmwJsEhnYAM"
      },
      "execution_count": null,
      "outputs": []
    },
    {
      "cell_type": "code",
      "source": [
        "input_dim = 3\n",
        "hidden_dim = 100\n",
        "num_layers = 3\n",
        "output_dim = 1\n",
        "num_epochs = 300\n",
        "dropout_prob = 0.00"
      ],
      "metadata": {
        "id": "AfLYfKSbozGj"
      },
      "execution_count": null,
      "outputs": []
    },
    {
      "cell_type": "markdown",
      "source": [
        "### rest\n"
      ],
      "metadata": {
        "id": "4FYE6hCIKN6W"
      }
    },
    {
      "cell_type": "code",
      "source": [
        "model = LSTM(input_dim=input_dim, hidden_dim=hidden_dim, output_dim=output_dim, num_layers=num_layers)\n",
        "criterion = torch.nn.MSELoss()\n",
        "optimiser = torch.optim.Adam(model.parameters(), lr=0.01)"
      ],
      "metadata": {
        "id": "qovQjuzao3EV"
      },
      "execution_count": null,
      "outputs": []
    },
    {
      "cell_type": "code",
      "source": [
        "y_train_scaler1 = y_temp[:,[0]]"
      ],
      "metadata": {
        "id": "9i5kMMsszwXM"
      },
      "execution_count": null,
      "outputs": []
    },
    {
      "cell_type": "code",
      "source": [
        "y_train_scaler1.shape"
      ],
      "metadata": {
        "colab": {
          "base_uri": "https://localhost:8080/"
        },
        "id": "0a_pgkcBz_Eo",
        "outputId": "baf40c3e-b1f3-4f4b-bbe0-d09cf0ad6df3"
      },
      "execution_count": null,
      "outputs": [
        {
          "output_type": "execute_result",
          "data": {
            "text/plain": [
              "torch.Size([1418, 1])"
            ]
          },
          "metadata": {},
          "execution_count": 62
        }
      ]
    },
    {
      "cell_type": "code",
      "source": [
        "y_train_pred.shape"
      ],
      "metadata": {
        "colab": {
          "base_uri": "https://localhost:8080/"
        },
        "id": "QQMjCv3YtziW",
        "outputId": "2861a02b-ce44-4e44-fb49-786342df602b"
      },
      "execution_count": null,
      "outputs": [
        {
          "output_type": "execute_result",
          "data": {
            "text/plain": [
              "torch.Size([1418, 1])"
            ]
          },
          "metadata": {},
          "execution_count": 63
        }
      ]
    },
    {
      "cell_type": "code",
      "source": [
        "y_train_pred = pd.DataFrame(scaler1.inverse_transform(y_train_pred.detach().numpy()))\n",
        "y_train = pd.DataFrame(scaler1.inverse_transform(y_train_scaler1.detach().numpy()))"
      ],
      "metadata": {
        "id": "BhXVuVtksE4d"
      },
      "execution_count": null,
      "outputs": []
    },
    {
      "cell_type": "code",
      "source": [
        "import seaborn as sns\n",
        "sns.set_style(\"darkgrid\")    \n",
        "\n",
        "fig = plt.figure()\n",
        "fig.subplots_adjust(hspace=0.2, wspace=0.2)\n",
        "\n",
        "plt.subplot(1, 2, 1)\n",
        "ax = sns.lineplot(x = y_train.index, y = y_train[0], label=\"Data\", color='royalblue')\n",
        "ax = sns.lineplot(x = y_train_pred.index, y = y_train_pred[0], label=\"Training Prediction (LSTM)\", color='tomato')\n",
        "ax.set_title('Stock price', size = 14, fontweight='bold')\n",
        "ax.set_xlabel(\"Days\", size = 14)\n",
        "ax.set_ylabel(\"Cost (USD)\", size = 14)\n",
        "ax.set_xticklabels('', size=10)\n",
        "\n",
        "\n",
        "plt.subplot(1, 2, 2)\n",
        "ax = sns.lineplot(data=hist, color='royalblue')\n",
        "ax.set_xlabel(\"Epoch\", size = 14)\n",
        "ax.set_ylabel(\"Loss\", size = 14)\n",
        "ax.set_title(\"Training Loss\", size = 14, fontweight='bold')\n",
        "fig.set_figheight(6)\n",
        "fig.set_figwidth(16)"
      ],
      "metadata": {
        "colab": {
          "base_uri": "https://localhost:8080/",
          "height": 279
        },
        "id": "rUt3RRt7tQXo",
        "outputId": "8574f74b-9619-4800-ef8a-66998cd850af"
      },
      "execution_count": null,
      "outputs": [
        {
          "output_type": "display_data",
          "data": {
            "text/plain": [
              "<Figure size 1600x600 with 2 Axes>"
            ],
            "image/png": "[encoded data removed]"
          },
          "metadata": {}
        }
      ]
    },
    {
      "cell_type": "code",
      "source": [
        "import math, time\n",
        "from sklearn.metrics import mean_squared_error\n",
        "\n",
        "# make predictions\n",
        "y_test_pred = model(x_test)\n"
      ],
      "metadata": {
        "id": "zejn7DPNubC7"
      },
      "execution_count": null,
      "outputs": []
    },
    {
      "cell_type": "code",
      "source": [
        "y_test_pred_scaler1 = model(x_test)"
      ],
      "metadata": {
        "id": "4SFS5qMfu74B"
      },
      "execution_count": null,
      "outputs": []
    },
    {
      "cell_type": "code",
      "source": [
        "y_test_scaler1 = y_test[:,[0]]"
      ],
      "metadata": {
        "id": "-UI9Ae9jCAo8"
      },
      "execution_count": null,
      "outputs": []
    },
    {
      "cell_type": "code",
      "source": [
        "y_test_pred = pd.DataFrame(scaler1.inverse_transform(y_test_pred.detach().numpy()))\n",
        "y_test = pd.DataFrame(scaler1.inverse_transform(y_test_scaler1.detach().numpy()))"
      ],
      "metadata": {
        "id": "9bw-nSR0vc76"
      },
      "execution_count": null,
      "outputs": []
    },
    {
      "cell_type": "code",
      "source": [
        "y_test = scaler1.inverse_transform(y_test_scaler1.detach().numpy())"
      ],
      "metadata": {
        "id": "-d59S9d9BLvr"
      },
      "execution_count": null,
      "outputs": []
    },
    {
      "cell_type": "code",
      "source": [
        "mseLSTMTest = np.mean(np.square(y_test - y_test_pred))"
      ],
      "metadata": {
        "id": "rW3wCHFI1S8e",
        "colab": {
          "base_uri": "https://localhost:8080/"
        },
        "outputId": "667d4908-9218-4148-b5b8-66ff6e7bf9b5"
      },
      "execution_count": null,
      "outputs": [
        {
          "output_type": "stream",
          "name": "stderr",
          "text": [
            "/usr/local/lib/python3.9/dist-packages/numpy/core/fromnumeric.py:3472: FutureWarning:\n",
            "\n",
            "In a future version, DataFrame.mean(axis=None) will return a scalar mean over the entire DataFrame. To retain the old behavior, use 'frame.mean(axis=0)' or just 'frame.mean()'\n",
            "\n"
          ]
        }
      ]
    },
    {
      "cell_type": "code",
      "source": [
        "mseLSTMTest"
      ],
      "metadata": {
        "id": "0g6Y658c2ei-",
        "colab": {
          "base_uri": "https://localhost:8080/"
        },
        "outputId": "aa5714c5-1d82-4dba-e170-7512b9e801c9"
      },
      "execution_count": null,
      "outputs": [
        {
          "output_type": "execute_result",
          "data": {
            "text/plain": [
              "0    9388.84375\n",
              "dtype: float32"
            ]
          },
          "metadata": {},
          "execution_count": 72
        }
      ]
    },
    {
      "cell_type": "code",
      "source": [
        "mseLSTMTrain = np.mean(np.square(y_train_pred- y_train))"
      ],
      "metadata": {
        "id": "24csINPp2rYV"
      },
      "execution_count": null,
      "outputs": []
    },
    {
      "cell_type": "code",
      "source": [
        "mseLSTMTrain"
      ],
      "metadata": {
        "id": "bFbQ3XXA27hp",
        "colab": {
          "base_uri": "https://localhost:8080/"
        },
        "outputId": "1f19d60a-28a4-4edf-c100-9063cfb2cbc8"
      },
      "execution_count": null,
      "outputs": [
        {
          "output_type": "execute_result",
          "data": {
            "text/plain": [
              "0    6940.559082\n",
              "dtype: float32"
            ]
          },
          "metadata": {},
          "execution_count": 74
        }
      ]
    },
    {
      "cell_type": "code",
      "source": [
        "dataset = np.concatenate((y_test , y_test_pred), axis=1)\n"
      ],
      "metadata": {
        "id": "faG_jiz31nPa"
      },
      "execution_count": null,
      "outputs": []
    },
    {
      "cell_type": "code",
      "source": [
        "dataset.shape"
      ],
      "metadata": {
        "id": "9LrS4NNl1w45",
        "colab": {
          "base_uri": "https://localhost:8080/"
        },
        "outputId": "5c07b922-edf5-440c-b19a-551d7b1a4c30"
      },
      "execution_count": null,
      "outputs": [
        {
          "output_type": "execute_result",
          "data": {
            "text/plain": [
              "(354, 2)"
            ]
          },
          "metadata": {},
          "execution_count": 76
        }
      ]
    },
    {
      "cell_type": "markdown",
      "source": [
        "在使用 LSTM 模型进行时间序列预测时，通常需要将训练数据集和测试数据集进行拆分，并使用训练数据集训练 LSTM 模型。在使用 LSTM 模型预测测试数据集时，可以使用训练数据集中的最后一个时间步长的预测结果作为第一个测试数据点的预测值，然后使用 LSTM 模型预测下一个测试数据点。这种方式称为“滚动预测”（rolling prediction）。"
      ],
      "metadata": {
        "id": "drBj3Q6ux_mH"
      }
    },
    {
      "cell_type": "code",
      "source": [
        "y_train_pred.shape"
      ],
      "metadata": {
        "id": "9MaHj09q8Sui",
        "colab": {
          "base_uri": "https://localhost:8080/"
        },
        "outputId": "46d4ca71-0bdd-49d3-852d-cd3348156938"
      },
      "execution_count": null,
      "outputs": [
        {
          "output_type": "execute_result",
          "data": {
            "text/plain": [
              "(1418, 1)"
            ]
          },
          "metadata": {},
          "execution_count": 77
        }
      ]
    },
    {
      "cell_type": "code",
      "source": [
        "original = scaler1.inverse_transform(price['price'].values.reshape(-1,1))\n"
      ],
      "metadata": {
        "id": "UnnsBsUi9R5T"
      },
      "execution_count": null,
      "outputs": []
    },
    {
      "cell_type": "code",
      "source": [
        "y_train.shape"
      ],
      "metadata": {
        "id": "5IXl_kfD8Vi2",
        "colab": {
          "base_uri": "https://localhost:8080/"
        },
        "outputId": "4cc9e9b7-4462-4930-dd90-08a1c1b2e6a1"
      },
      "execution_count": null,
      "outputs": [
        {
          "output_type": "execute_result",
          "data": {
            "text/plain": [
              "(1418, 1)"
            ]
          },
          "metadata": {},
          "execution_count": 79
        }
      ]
    },
    {
      "cell_type": "code",
      "source": [],
      "metadata": {
        "id": "XUC5jORs-5wh"
      },
      "execution_count": null,
      "outputs": []
    },
    {
      "cell_type": "code",
      "source": [
        "trainPredictPlot = np.empty((len(price), 1))\n",
        "trainPredictPlot[:] = np.nan\n",
        "trainPredictPlot[lookback:len(y_train_pred)+lookback, :] = y_train_pred\n",
        "\n",
        "testPredictPlot = np.empty((len(price), 1))\n",
        "testPredictPlot[:] = np.nan\n",
        "\n",
        "testPredictPlot[len(y_train_pred)+lookback-1:len(price)-1, :] = y_test_pred\n",
        "original = scaler1.inverse_transform(price['price'].values.reshape(-1,1))\n",
        "\n",
        "predictions = np.append(trainPredictPlot, testPredictPlot, axis=1)\n",
        "predictions = np.append(predictions, original, axis=1)\n",
        "result = pd.DataFrame(predictions)"
      ],
      "metadata": {
        "id": "7SB3xciJ9ed1"
      },
      "execution_count": null,
      "outputs": []
    },
    {
      "cell_type": "code",
      "source": [
        "import plotly.express as px\n",
        "import plotly.graph_objects as go\n",
        "\n",
        "fig = go.Figure()\n",
        "fig.add_trace(go.Scatter(go.Scatter(x=result.index, y=result[0],\n",
        "                    mode='lines',\n",
        "                    name='Train prediction')))\n",
        "fig.add_trace(go.Scatter(x=result.index, y=result[1],\n",
        "                    mode='lines',\n",
        "                    name='Test prediction'))\n",
        "fig.add_trace(go.Scatter(go.Scatter(x=result.index, y=result[2],\n",
        "                    mode='lines',\n",
        "                    name='Actual Value')))\n",
        "fig.update_layout(\n",
        "    xaxis=dict(\n",
        "        showline=True,\n",
        "        showgrid=True,\n",
        "        showticklabels=False,\n",
        "        linecolor='white',\n",
        "        linewidth=2\n",
        "    ),\n",
        "    yaxis=dict(\n",
        "        title_text='Close (USD)',\n",
        "        titlefont=dict(\n",
        "            family='Rockwell',\n",
        "            size=12,\n",
        "            color='white',\n",
        "        ),\n",
        "        showline=True,\n",
        "        showgrid=True,\n",
        "        showticklabels=True,\n",
        "        linecolor='white',\n",
        "        linewidth=2,\n",
        "        ticks='outside',\n",
        "        tickfont=dict(\n",
        "            family='Rockwell',\n",
        "            size=12,\n",
        "            color='white',\n",
        "        ),\n",
        "    ),\n",
        "    showlegend=True,\n",
        "    template = 'plotly_dark'\n",
        "\n",
        ")\n",
        "\n",
        "\n",
        "\n",
        "annotations = []\n",
        "annotations.append(dict(xref='paper', yref='paper', x=0.0, y=1.05,\n",
        "                              xanchor='left', yanchor='bottom',\n",
        "                              text='Results (LSTM)',\n",
        "                              font=dict(family='Rockwell',\n",
        "                                        size=26,\n",
        "                                        color='white'),\n",
        "                              showarrow=False))\n",
        "fig.update_layout(annotations=annotations)\n",
        "\n",
        "fig.show()"
      ],
      "metadata": {
        "id": "61ZNXzdOwyOC",
        "colab": {
          "base_uri": "https://localhost:8080/",
          "height": 562
        },
        "outputId": "01f2eb68-290f-4f37-ed8b-8f41b87f9bb8"
      },
      "execution_count": null,
      "outputs": [
        {
          "output_type": "display_data",
          "data": {
            "text/html": [
              "<html>\n",
              "<head><meta charset=\"utf-8\" /></head>\n",
              "<body>\n",
              "    <div>            <script src=\"https://cdnjs.cloudflare.com/ajax/libs/mathjax/2.7.5/MathJax.js?config=TeX-AMS-MML_SVG\"></script><script type=\"text/javascript\">if (window.MathJax && window.MathJax.Hub && window.MathJax.Hub.Config) {window.MathJax.Hub.Config({SVG: {font: \"STIX-Web\"}});}</script>                <script type=\"text/javascript\">window.PlotlyConfig = {MathJaxConfig: 'local'};</script>\n",
              "        <script src=\"https://cdn.plot.ly/plotly-2.18.2.min.js\"></script>                <div id=\"2d6812a0-cff8-4068-ad8f-bcc42b8008e9\" class=\"plotly-graph-div\" style=\"height:525px; width:100%;\"></div>            <script type=\"text/javascript\">                                    window.PLOTLYENV=window.PLOTLYENV || {};                                    if (document.getElementById(\"2d6812a0-cff8-4068-ad8f-bcc42b8008e9\")) {                    Plotly.newPlot(                        \"2d6812a0-cff8-4068-ad8f-bcc42b8008e9\",                        [{\"mode\":\"lines\",\"name\":\"Train prediction\",\"x\":[0,1,2,3,4,5,6,7,8,9,10,11,12,13,14,15,16,17,18,19,20,21,22,23,24,25,26,27,28,29,30,31,32,33,34,35,36,37,38,39,40,41,42,43,44,45,46,47,48,49,50,51,52,53,54,55,56,57,58,59,60,61,62,63,64,65,66,67,68,69,70,71,72,73,74,75,76,77,78,79,80,81,82,83,84,85,86,87,88,89,90,91,92,93,94,95,96,97,98,99,100,101,102,103,104,105,106,107,108,109,110,111,112,113,114,115,116,117,118,119,120,121,122,123,124,125,126,127,128,129,130,131,132,133,134,135,136,137,138,139,140,141,142,143,144,145,146,147,148,149,150,151,152,153,154,155,156,157,158,159,160,161,162,163,164,165,166,167,168,169,170,171,172,173,174,175,176,177,178,179,180,181,182,183,184,185,186,187,188,189,190,191,192,193,194,195,196,197,198,199,200,201,202,203,204,205,206,207,208,209,210,211,212,213,214,215,216,217,218,219,220,221,222,223,224,225,226,227,228,229,230,231,232,233,234,235,236,237,238,239,240,241,242,243,244,245,246,247,248,249,250,251,252,253,254,255,256,257,258,259,260,261,262,263,264,265,266,267,268,269,270,271,272,273,274,275,276,277,278,279,280,281,282,283,284,285,286,287,288,289,290,291,292,293,294,295,296,297,298,299,300,301,302,303,304,305,306,307,308,309,310,311,312,313,314,315,316,317,318,319,320,321,322,323,324,325,326,327,328,329,330,331,332,333,334,335,336,337,338,339,340,341,342,343,344,345,346,347,348,349,350,351,352,353,354,355,356,357,358,359,360,361,362,363,364,365,366,367,368,369,370,371,372,373,374,375,376,377,378,379,380,381,382,383,384,385,386,387,388,389,390,391,392,393,394,395,396,397,398,399,400,401,402,403,404,405,406,407,408,409,410,411,412,413,414,415,416,417,418,419,420,421,422,423,424,425,426,427,428,429,430,431,432,433,434,435,436,437,438,439,440,441,442,443,444,445,446,447,448,449,450,451,452,453,454,455,456,457,458,459,460,461,462,463,464,465,466,467,468,469,470,471,472,473,474,475,476,477,478,479,480,481,482,483,484,485,486,487,488,489,490,491,492,493,494,495,496,497,498,499,500,501,502,503,504,505,506,507,508,509,510,511,512,513,514,515,516,517,518,519,520,521,522,523,524,525,526,527,528,529,530,531,532,533,534,535,536,537,538,539,540,541,542,543,544,545,546,547,548,549,550,551,552,553,554,555,556,557,558,559,560,561,562,563,564,565,566,567,568,569,570,571,572,573,574,575,576,577,578,579,580,581,582,583,584,585,586,587,588,589,590,591,592,593,594,595,596,597,598,599,600,601,602,603,604,605,606,607,608,609,610,611,612,613,614,615,616,617,618,619,620,621,622,623,624,625,626,627,628,629,630,631,632,633,634,635,636,637,638,639,640,641,642,643,644,645,646,647,648,649,650,651,652,653,654,655,656,657,658,659,660,661,662,663,664,665,666,667,668,669,670,671,672,673,674,675,676,677,678,679,680,681,682,683,684,685,686,687,688,689,690,691,692,693,694,695,696,697,698,699,700,701,702,703,704,705,706,707,708,709,710,711,712,713,714,715,716,717,718,719,720,721,722,723,724,725,726,727,728,729,730,731,732,733,734,735,736,737,738,739,740,741,742,743,744,745,746,747,748,749,750,751,752,753,754,755,756,757,758,759,760,761,762,763,764,765,766,767,768,769,770,771,772,773,774,775,776,777,778,779,780,781,782,783,784,785,786,787,788,789,790,791,792,793,794,795,796,797,798,799,800,801,802,803,804,805,806,807,808,809,810,811,812,813,814,815,816,817,818,819,820,821,822,823,824,825,826,827,828,829,830,831,832,833,834,835,836,837,838,839,840,841,842,843,844,845,846,847,848,849,850,851,852,853,854,855,856,857,858,859,860,861,862,863,864,865,866,867,868,869,870,871,872,873,874,875,876,877,878,879,880,881,882,883,884,885,886,887,888,889,890,891,892,893,894,895,896,897,898,899,900,901,902,903,904,905,906,907,908,909,910,911,912,913,914,915,916,917,918,919,920,921,922,923,924,925,926,927,928,929,930,931,932,933,934,935,936,937,938,939,940,941,942,943,944,945,946,947,948,949,950,951,952,953,954,955,956,957,958,959,960,961,962,963,964,965,966,967,968,969,970,971,972,973,974,975,976,977,978,979,980,981,982,983,984,985,986,987,988,989,990,991,992,993,994,995,996,997,998,999,1000,1001,1002,1003,1004,1005,1006,1007,1008,1009,1010,1011,1012,1013,1014,1015,1016,1017,1018,1019,1020,1021,1022,1023,1024,1025,1026,1027,1028,1029,1030,1031,1032,1033,1034,1035,1036,1037,1038,1039,1040,1041,1042,1043,1044,1045,1046,1047,1048,1049,1050,1051,1052,1053,1054,1055,1056,1057,1058,1059,1060,1061,1062,1063,1064,1065,1066,1067,1068,1069,1070,1071,1072,1073,1074,1075,1076,1077,1078,1079,1080,1081,1082,1083,1084,1085,1086,1087,1088,1089,1090,1091,1092,1093,1094,1095,1096,1097,1098,1099,1100,1101,1102,1103,1104,1105,1106,1107,1108,1109,1110,1111,1112,1113,1114,1115,1116,1117,1118,1119,1120,1121,1122,1123,1124,1125,1126,1127,1128,1129,1130,1131,1132,1133,1134,1135,1136,1137,1138,1139,1140,1141,1142,1143,1144,1145,1146,1147,1148,1149,1150,1151,1152,1153,1154,1155,1156,1157,1158,1159,1160,1161,1162,1163,1164,1165,1166,1167,1168,1169,1170,1171,1172,1173,1174,1175,1176,1177,1178,1179,1180,1181,1182,1183,1184,1185,1186,1187,1188,1189,1190,1191,1192,1193,1194,1195,1196,1197,1198,1199,1200,1201,1202,1203,1204,1205,1206,1207,1208,1209,1210,1211,1212,1213,1214,1215,1216,1217,1218,1219,1220,1221,1222,1223,1224,1225,1226,1227,1228,1229,1230,1231,1232,1233,1234,1235,1236,1237,1238,1239,1240,1241,1242,1243,1244,1245,1246,1247,1248,1249,1250,1251,1252,1253,1254,1255,1256,1257,1258,1259,1260,1261,1262,1263,1264,1265,1266,1267,1268,1269,1270,1271,1272,1273,1274,1275,1276,1277,1278,1279,1280,1281,1282,1283,1284,1285,1286,1287,1288,1289,1290,1291,1292,1293,1294,1295,1296,1297,1298,1299,1300,1301,1302,1303,1304,1305,1306,1307,1308,1309,1310,1311,1312,1313,1314,1315,1316,1317,1318,1319,1320,1321,1322,1323,1324,1325,1326,1327,1328,1329,1330,1331,1332,1333,1334,1335,1336,1337,1338,1339,1340,1341,1342,1343,1344,1345,1346,1347,1348,1349,1350,1351,1352,1353,1354,1355,1356,1357,1358,1359,1360,1361,1362,1363,1364,1365,1366,1367,1368,1369,1370,1371,1372,1373,1374,1375,1376,1377,1378,1379,1380,1381,1382,1383,1384,1385,1386,1387,1388,1389,1390,1391,1392,1393,1394,1395,1396,1397,1398,1399,1400,1401,1402,1403,1404,1405,1406,1407,1408,1409,1410,1411,1412,1413,1414,1415,1416,1417,1418,1419,1420,1421,1422,1423,1424,1425,1426,1427,1428,1429,1430,1431,1432,1433,1434,1435,1436,1437,1438,1439,1440,1441,1442,1443,1444,1445,1446,1447,1448,1449,1450,1451,1452,1453,1454,1455,1456,1457,1458,1459,1460,1461,1462,1463,1464,1465,1466,1467,1468,1469,1470,1471,1472,1473,1474,1475,1476,1477,1478,1479,1480,1481,1482,1483,1484,1485,1486,1487,1488,1489,1490,1491,1492,1493,1494,1495,1496,1497,1498,1499,1500,1501,1502,1503,1504,1505,1506,1507,1508,1509,1510,1511,1512,1513,1514,1515,1516,1517,1518,1519,1520,1521,1522,1523,1524,1525,1526,1527,1528,1529,1530,1531,1532,1533,1534,1535,1536,1537,1538,1539,1540,1541,1542,1543,1544,1545,1546,1547,1548,1549,1550,1551,1552,1553,1554,1555,1556,1557,1558,1559,1560,1561,1562,1563,1564,1565,1566,1567,1568,1569,1570,1571,1572,1573,1574,1575,1576,1577,1578,1579,1580,1581,1582,1583,1584,1585,1586,1587,1588,1589,1590,1591,1592,1593,1594,1595,1596,1597,1598,1599,1600,1601,1602,1603,1604,1605,1606,1607,1608,1609,1610,1611,1612,1613,1614,1615,1616,1617,1618,1619,1620,1621,1622,1623,1624,1625,1626,1627,1628,1629,1630,1631,1632,1633,1634,1635,1636,1637,1638,1639,1640,1641,1642,1643,1644,1645,1646,1647,1648,1649,1650,1651,1652,1653,1654,1655,1656,1657,1658,1659,1660,1661,1662,1663,1664,1665,1666,1667,1668,1669,1670,1671,1672,1673,1674,1675,1676,1677,1678,1679,1680,1681,1682,1683,1684,1685,1686,1687,1688,1689,1690,1691,1692,1693,1694,1695,1696,1697,1698,1699,1700,1701,1702,1703,1704,1705,1706,1707,1708,1709,1710,1711,1712,1713,1714,1715,1716,1717,1718,1719,1720,1721,1722,1723,1724,1725,1726,1727,1728,1729,1730,1731,1732,1733,1734,1735,1736,1737,1738,1739,1740,1741,1742,1743,1744,1745,1746,1747,1748,1749,1750,1751,1752,1753,1754,1755,1756,1757,1758,1759,1760,1761,1762,1763,1764,1765,1766,1767,1768,1769,1770,1771,1772,1773,1774,1775,1776,1777,1778,1779,1780,1781,1782,1783,1784,1785,1786,1787,1788,1789,1790,1791,1792,1793,1794,1795,1796,1797,1798,1799,1800,1801],\"y\":[null,null,null,null,null,null,null,null,null,null,null,null,null,null,null,null,null,null,null,null,null,null,null,null,null,null,null,null,null,null,532.7940673828125,539.7144165039062,547.0010375976562,560.1635131835938,563.993408203125,567.8104248046875,569.8681030273438,569.9463500976562,567.9476318359375,563.1229858398438,541.4357299804688,523.3071899414062,502.3852844238281,481.308837890625,479.0083923339844,474.1826171875,471.43450927734375,469.5277404785156,474.6651306152344,486.384033203125,495.7578125,498.39453125,481.4237365722656,466.1754455566406,452.1459655761719,444.54217529296875,432.7145690917969,424.2255859375,414.6195983886719,410.7376708984375,414.6682434082031,419.44012451171875,429.84954833984375,435.3006591796875,438.1890869140625,440.6028747558594,442.4789123535156,447.7110290527344,453.2253112792969,453.0535888671875,440.1350402832031,430.19317626953125,420.4839782714844,414.79937744140625,412.11187744140625,415.265380859375,428.6609191894531,446.6848449707031,454.23828125,452.3306579589844,443.22467041015625,438.0188903808594,435.3453674316406,432.2040100097656,438.2291259765625,442.9863586425781,443.2469482421875,443.8834228515625,448.85992431640625,450.36651611328125,445.52593994140625,433.2347106933594,419.83056640625,407.409912109375,400.85772705078125,395.2591247558594,392.1734619140625,389.56689453125,380.1154479980469,364.5374755859375,354.48223876953125,340.9734802246094,326.0957336425781,315.01470947265625,299.8813171386719,285.8028869628906,276.68206787109375,272.933837890625,279.260009765625,281.4933166503906,282.6556091308594,275.80096435546875,270.50750732421875,264.79864501953125,262.13299560546875,262.7855529785156,263.19671630859375,262.1540222167969,264.23095703125,269.5090637207031,272.3594055175781,272.5171813964844,270.930908203125,272.8853454589844,275.2977294921875,275.574951171875,274.4082946777344,260.0777587890625,243.90237426757812,228.63926696777344,213.4656982421875,202.2489013671875,195.18234252929688,188.3463134765625,182.82357788085938,186.17306518554688,191.5308380126953,198.49884033203125,203.173583984375,200.23019409179688,198.60092163085938,197.97064208984375,201.60989379882812,211.60659790039062,219.42779541015625,224.83534240722656,223.932373046875,219.79354858398438,214.0397186279297,212.97402954101562,212.2243194580078,214.01771545410156,216.28811645507812,217.5692596435547,216.79530334472656,214.34060668945312,212.40353393554688,212.71063232421875,213.0116729736328,213.25123596191406,214.3561248779297,215.0591583251953,214.87867736816406,206.4967041015625,198.4915008544922,193.92250061035156,190.78521728515625,193.11935424804688,196.1659698486328,198.0947265625,197.41905212402344,195.94586181640625,195.39031982421875,195.238037109375,194.9962158203125,194.5206298828125,193.94139099121094,193.2011260986328,192.8881072998047,192.69845581054688,192.95254516601562,191.2942352294922,189.59051513671875,188.7694549560547,188.64312744140625,189.4851837158203,189.82908630371094,191.6907196044922,194.0570068359375,198.41761779785156,202.171630859375,203.3120574951172,202.537109375,201.8882293701172,201.6175079345703,201.37808227539062,200.49005126953125,194.03656005859375,186.82618713378906,179.6967315673828,174.39720153808594,171.6200408935547,164.3773651123047,152.78297424316406,144.01734924316406,135.94911193847656,129.57655334472656,123.09387969970703,119.02825164794922,114.83374786376953,111.74003601074219,112.45716857910156,113.12085723876953,112.44772338867188,112.4361572265625,112.17953491210938,110.27362060546875,108.5211181640625,105.7233657836914,100.77168273925781,96.93800354003906,93.88377380371094,92.37731170654297,90.86662292480469,89.22734069824219,88.19732666015625,86.9176025390625,85.37730407714844,84.06119537353516,83.36437225341797,85.25336456298828,88.90599822998047,92.10574340820312,97.61226654052734,101.1083984375,104.38329315185547,110.36668395996094,118.49667358398438,122.20811462402344,123.53578186035156,120.39314270019531,121.26453399658203,124.98851776123047,128.09971618652344,128.5035400390625,129.3931121826172,134.08056640625,137.3361358642578,140.72947692871094,143.46095275878906,145.4710693359375,145.55807495117188,144.54356384277344,143.62339782714844,138.2347412109375,131.91436767578125,126.72339630126953,121.38339233398438,120.29515075683594,119.2644271850586,118.84015655517578,118.5161361694336,117.57819366455078,117.53955841064453,116.6966552734375,115.26111602783203,114.4547348022461,113.76029968261719,113.22858428955078,112.63186645507812,112.14400482177734,111.28262329101562,109.01969909667969,106.69740295410156,105.75579833984375,104.98423767089844,104.62073516845703,104.76879119873047,104.73692321777344,104.68954467773438,104.57646179199219,103.91714477539062,103.08128356933594,106.18148040771484,109.68621063232422,113.63298034667969,115.82188415527344,117.083984375,117.69536590576172,117.72046661376953,117.66801452636719,117.96086883544922,121.32897186279297,127.88200378417969,133.1774444580078,137.57034301757812,139.53985595703125,140.85186767578125,144.32064819335938,143.0165252685547,140.29054260253906,137.22361755371094,134.92361450195312,133.58804321289062,132.47314453125,131.20596313476562,129.8333282470703,127.84675598144531,128.824462890625,130.64718627929688,132.01193237304688,132.02462768554688,132.34130859375,132.50994873046875,131.606689453125,130.90733337402344,129.97982788085938,129.4227294921875,130.36813354492188,132.65744018554688,133.72467041015625,134.21170043945312,134.46507263183594,134.82264709472656,134.50314331054688,134.03924560546875,133.8163299560547,133.65826416015625,133.1083526611328,132.89517211914062,134.01669311523438,134.9712677001953,136.7268829345703,138.1443634033203,138.66944885253906,138.79367065429688,145.78240966796875,153.16888427734375,158.6363525390625,160.3692626953125,160.66226196289062,163.05844116210938,167.36941528320312,169.74867248535156,171.4736785888672,169.96243286132812,166.86801147460938,163.5823974609375,162.36541748046875,160.88926696777344,160.74375915527344,161.08526611328125,163.6187744140625,166.23716735839844,167.71316528320312,167.7777557373047,167.54904174804688,167.5132293701172,166.59066772460938,162.5086669921875,159.24462890625,157.05996704101562,155.44337463378906,154.03660583496094,154.8107147216797,155.40249633789062,156.22862243652344,158.49281311035156,159.7931365966797,159.96824645996094,162.69070434570312,165.47012329101562,166.40863037109375,166.71755981445312,167.66184997558594,176.57284545898438,182.17567443847656,186.78176879882812,196.07177734375,212.01577758789062,231.25950622558594,240.3389892578125,239.0746307373047,241.9173583984375,244.198486328125,246.5224609375,245.2689666748047,243.70201110839844,243.10304260253906,243.54197692871094,248.65708923339844,256.3326416015625,260.95648193359375,263.04217529296875,261.19561767578125,261.50653076171875,260.8906555175781,261.379638671875,257.5972595214844,250.4177703857422,245.8463592529297,244.1697235107422,244.10923767089844,242.72994995117188,238.1935272216797,237.68055725097656,238.33677673339844,243.99742126464844,247.46083068847656,251.43283081054688,255.30685424804688,259.3575439453125,262.89752197265625,262.8732604980469,262.51397705078125,263.5393371582031,272.06768798828125,285.11395263671875,293.9378356933594,299.25189208984375,304.40521240234375,316.1545715332031,314.3369140625,310.46148681640625,311.3185119628906,305.8733215332031,300.3908996582031,295.1271667480469,295.2000732421875,291.5233154296875,288.360107421875,286.3829650878906,289.100341796875,295.2785949707031,299.85791015625,298.1331787109375,287.9881286621094,279.6374816894531,273.0212707519531,258.2591247558594,246.33718872070312,230.68167114257812,220.55030822753906,219.4213104248047,219.13465881347656,220.67608642578125,221.54380798339844,219.93540954589844,216.5997314453125,214.58737182617188,214.39236450195312,214.25770568847656,211.1457977294922,208.99356079101562,207.78038024902344,206.89715576171875,208.78628540039062,210.42190551757812,211.81414794921875,213.51181030273438,215.25035095214844,219.99081420898438,222.6943817138672,223.59608459472656,222.3167724609375,217.8280029296875,212.36546325683594,210.9326171875,209.5216064453125,208.1162567138672,201.6846160888672,195.8271484375,191.0057373046875,187.41358947753906,187.4474334716797,190.93411254882812,192.77755737304688,191.11219787597656,189.99420166015625,190.16085815429688,189.44683837890625,187.58363342285156,186.6011505126953,185.5726776123047,181.40383911132812,176.4893798828125,172.2267608642578,170.30294799804688,169.13926696777344,170.5244598388672,172.6929168701172,173.33094787597656,173.12197875976562,171.84422302246094,172.33518981933594,174.30357360839844,176.36500549316406,177.17689514160156,177.05845642089844,177.1100616455078,177.38613891601562,179.62242126464844,182.0797882080078,186.2965850830078,193.5017547607422,199.81494140625,207.16590881347656,211.0936279296875,212.16552734375,211.36407470703125,207.5573272705078,197.1240692138672,187.0946502685547,178.5826873779297,174.405517578125,173.08673095703125,171.39584350585938,172.77159118652344,174.66539001464844,176.15591430664062,176.03253173828125,175.2677459716797,174.64085388183594,172.72068786621094,173.91708374023438,175.82977294921875,180.93458557128906,184.75332641601562,184.65475463867188,182.38026428222656,180.59786987304688,180.85928344726562,180.5067901611328,178.64247131347656,177.00233459472656,175.28367614746094,173.31585693359375,172.74127197265625,172.51370239257812,171.75892639160156,169.00897216796875,165.7244873046875,169.2991485595703,174.33445739746094,178.69900512695312,180.68727111816406,183.49981689453125,184.14039611816406,183.83187866210938,182.9683837890625,184.71849060058594,185.88795471191406,185.75218200683594,186.2369384765625,187.33209228515625,187.00088500976562,185.65953063964844,184.20919799804688,184.74923706054688,184.67294311523438,184.4600372314453,184.62741088867188,184.41448974609375,183.25038146972656,182.08924865722656,181.49746704101562,180.36155700683594,178.55223083496094,176.4534149169922,172.12777709960938,166.5451202392578,160.81454467773438,154.21482849121094,150.68374633789062,148.96507263183594,149.730712890625,150.0416259765625,150.9805450439453,150.89340209960938,150.61563110351562,149.47535705566406,148.07704162597656,147.1361541748047,146.90589904785156,146.948486328125,146.453857421875,147.0545196533203,147.13601684570312,146.59597778320312,145.33670043945312,144.8622283935547,144.4785614013672,143.65159606933594,143.09915161132812,141.09283447265625,136.6572265625,135.35337829589844,133.4141845703125,131.2515106201172,129.08079528808594,129.47616577148438,130.06935119628906,130.0418701171875,128.76707458496094,127.88595581054688,127.5015869140625,127.65555572509766,129.36392211914062,131.03338623046875,131.2462921142578,131.026611328125,129.98800659179688,131.40957641601562,132.63882446289062,133.7118377685547,137.1249237060547,140.2967529296875,141.9547882080078,141.1381072998047,142.11538696289062,143.03964233398438,143.99520874023438,144.2423858642578,152.4207305908203,160.78492736816406,165.0028533935547,168.7244415283203,172.28021240234375,172.51187133789062,170.8214111328125,169.00869750976562,167.87335205078125,166.16822814941406,165.3192596435547,163.88357543945312,164.74960327148438,167.31033325195312,171.47494506835938,174.9541473388672,180.17628479003906,183.50588989257812,186.11849975585938,189.68301391601562,193.46043395996094,195.3529510498047,201.47071838378906,210.32447814941406,220.8729248046875,229.3160858154297,235.9659881591797,239.89878845214844,238.56167602539062,245.8792266845703,257.7790222167969,272.0080261230469,277.0169677734375,275.4824523925781,274.5542297363281,280.0071716308594,277.8354797363281,275.70452880859375,271.693603515625,266.5150451660156,266.84893798828125,268.33056640625,263.5483703613281,253.51881408691406,245.694091796875,240.1695098876953,232.92459106445312,227.94483947753906,228.8488006591797,229.8845977783203,229.0297088623047,229.13531494140625,234.0778350830078,237.18775939941406,230.1155548095703,221.1275634765625,212.39451599121094,206.04592895507812,182.3065185546875,165.87789916992188,150.08349609375,139.89474487304688,131.17044067382812,126.30928039550781,123.72923278808594,128.05740356445312,132.9380340576172,135.3522491455078,133.24822998046875,133.7401885986328,136.31021118164062,137.83810424804688,138.32470703125,137.7622528076172,136.94161987304688,133.9391326904297,132.9222412109375,133.0773468017578,134.17137145996094,138.123779296875,141.3245086669922,143.4093475341797,143.89186096191406,152.1297149658203,160.1552276611328,166.2281494140625,169.32720947265625,168.31666564941406,165.57728576660156,164.130615234375,162.98849487304688,162.1307830810547,159.55567932128906,164.06715393066406,168.86952209472656,175.9208526611328,179.99411010742188,180.20758056640625,177.9416961669922,179.30813598632812,180.0992889404297,183.2596893310547,188.27285766601562,192.9371795654297,197.0988311767578,199.16563415527344,206.2742156982422,211.6455078125,214.20411682128906,214.84722900390625,214.5918731689453,213.87896728515625,211.89804077148438,210.31361389160156,211.26890563964844,213.55044555664062,214.38755798339844,210.03611755371094,204.04977416992188,198.70440673828125,197.8096160888672,201.14134216308594,201.2093048095703,201.0078125,203.0740509033203,207.3827667236328,210.16162109375,210.87945556640625,207.40814208984375,206.25559997558594,205.84457397460938,205.16650390625,204.6916046142578,203.525390625,204.24661254882812,209.40626525878906,214.3126983642578,224.21803283691406,229.505859375,236.2293701171875,238.68533325195312,240.11959838867188,241.35279846191406,240.92613220214844,240.45066833496094,241.33953857421875,242.7152862548828,243.41452026367188,244.1997528076172,242.07669067382812,240.05023193359375,238.16912841796875,235.48939514160156,233.93711853027344,233.4166717529297,232.8653564453125,231.93560791015625,230.6699676513672,229.15716552734375,227.65000915527344,230.86737060546875,234.97052001953125,236.49855041503906,235.39097595214844,233.07489013671875,228.78591918945312,225.90130615234375,225.31248474121094,224.8531036376953,225.7729949951172,225.61705017089844,224.7967071533203,225.1201629638672,225.59886169433594,230.01205444335938,233.60646057128906,237.91856384277344,239.64202880859375,239.63624572753906,238.54856872558594,238.40008544921875,238.39373779296875,238.2999725341797,237.74838256835938,236.0316925048828,233.9623565673828,233.16372680664062,233.9366912841797,234.48814392089844,237.02293395996094,244.84426879882812,255.46420288085938,265.0907897949219,279.2528076171875,292.4925537109375,305.7130126953125,313.0596008300781,315.9887390136719,321.88995361328125,330.9963684082031,351.5310974121094,364.91790771484375,374.6351318359375,382.0629577636719,389.40814208984375,393.469970703125,391.33758544921875,389.7156677246094,388.40985107421875,391.7425537109375,390.9873352050781,390.82574462890625,403.82861328125,420.1156921386719,428.729736328125,433.3342590332031,434.1895751953125,431.67327880859375,424.64788818359375,420.5833740234375,410.9359130859375,404.2585144042969,399.1773986816406,401.6117858886719,399.0413513183594,394.92803955078125,390.5133056640625,391.24847412109375,394.6467590332031,407.34576416015625,421.9952392578125,446.657470703125,455.00164794921875,437.2677917480469,415.9991455078125,389.805908203125,374.93829345703125,365.60400390625,356.47021484375,353.3254699707031,375.7843017578125,381.1310729980469,381.78631591796875,376.8787536621094,375.7300109863281,372.66986083984375,370.5838928222656,377.481689453125,381.30548095703125,384.19842529296875,382.1097717285156,371.73828125,361.1317443847656,347.0011291503906,344.4759521484375,346.9705505371094,350.98638916015625,354.5574035644531,355.8701171875,357.7237243652344,358.8895263671875,358.89910888671875,356.4654235839844,352.9335021972656,352.0329284667969,352.9089660644531,350.6885986328125,347.4678649902344,347.8638000488281,354.41357421875,362.32177734375,368.296142578125,377.0978698730469,381.5523986816406,382.9215087890625,382.2685241699219,377.9351501464844,374.1007385253906,374.3926086425781,377.0832214355469,375.8246154785156,381.70904541015625,394.6418151855469,404.1983337402344,409.8110046386719,410.6427917480469,408.2688903808594,406.9517822265625,402.5373229980469,397.5439147949219,392.97052001953125,390.327880859375,391.70391845703125,390.75469970703125,390.6363830566406,395.4683532714844,405.3635559082031,426.2275085449219,438.0724792480469,447.4391784667969,450.6014404296875,451.28118896484375,456.9102478027344,462.342041015625,469.8984375,471.4219665527344,466.12921142578125,464.5843811035156,472.39825439453125,480.85693359375,482.1280517578125,494.133056640625,518.9601440429688,545.9435424804688,579.3749389648438,601.2302856445312,598.4425048828125,577.1431884765625,553.34033203125,542.861572265625,554.0355834960938,582.9761352539062,601.027099609375,608.3140258789062,615.3502807617188,606.3690795898438,603.04931640625,605.3531494140625,605.2696533203125,593.1253662109375,587.3810424804688,580.4866333007812,570.7172241210938,569.9699096679688,579.746337890625,587.6427001953125,594.1141967773438,615.2631225585938,638.0322875976562,655.0169067382812,665.7653198242188,663.3090209960938,649.0352172851562,643.8369140625,630.38330078125,625.7802734375,629.5152587890625,638.4304809570312,668.2703247070312,708.0439453125,735.07421875,753.1934204101562,759.41455078125,755.6499633789062,771.0183715820312,904.3262329101562,1008.7498168945312,1084.2662353515625,1169.728759765625,1229.0120849609375,1255.8883056640625,1287.0213623046875,1302.6802978515625,1233.1290283203125,1140.7843017578125,1123.359130859375,1174.6702880859375,1205.4190673828125,1243.264892578125,1263.894287109375,1277.7913818359375,1356.107666015625,1407.7237548828125,1302.5941162109375,1261.046875,1246.9261474609375,1328.8897705078125,1368.2923583984375,1388.1026611328125,1338.4039306640625,1336.6048583984375,1381.4345703125,1399.87939453125,1373.478515625,1378.4329833984375,1473.7633056640625,1614.1072998046875,1655.3072509765625,1715.26318359375,1722.1043701171875,1673.6103515625,1721.501220703125,1774.248291015625,1779.4378662109375,1791.0367431640625,1834.201171875,1840.0731201171875,1830.0810546875,1811.8182373046875,1801.56982421875,1837.43212890625,1917.08740234375,1977.37890625,1975.862548828125,1959.78271484375,1869.8358154296875,1692.2254638671875,1625.265380859375,1532.743408203125,1485.8807373046875,1480.0404052734375,1465.306884765625,1531.61865234375,1544.1163330078125,1583.7650146484375,1588.5682373046875,1576.857666015625,1639.380859375,1719.0948486328125,1824.3043212890625,1886.341552734375,1863.4083251953125,1849.8880615234375,1811.1466064453125,1889.811767578125,1901.7606201171875,1854.8284912109375,1828.23681640625,1834.838134765625,1815.6104736328125,1824.5594482421875,1836.7230224609375,1824.377685546875,1758.498291015625,1708.9017333984375,1647.926513671875,1612.5643310546875,1666.4239501953125,1719.2305908203125,1727.059814453125,1802.7117919921875,1856.2706298828125,1919.476318359375,1980.2200927734375,2107.742431640625,2086.237060546875,2083.171630859375,2103.24951171875,2124.833984375,2051.43408203125,2061.06103515625,2072.42041015625,2129.388916015625,2155.7138671875,2160.48681640625,2269.940673828125,2415.3720703125,2512.495361328125,2470.2529296875,2368.860595703125,2283.2841796875,2179.0517578125,2266.514892578125,2356.426513671875,2439.14697265625,2408.615478515625,2250.702392578125,2265.04638671875,2458.100341796875,2623.714599609375,2745.3779296875,2764.74365234375,2766.35595703125,2901.31591796875,2942.895751953125,3381.896484375,3323.234619140625,3472.814453125,3466.10693359375,3444.681396484375,3850.724365234375,3910.288818359375,3963.99951171875,4117.26611328125,3926.871337890625,3720.50439453125,3995.021240234375,3606.60546875,3552.671630859375,3275.6494140625,3298.114501953125,2616.857666015625,2658.49951171875,2443.3720703125,2290.519287109375,2125.238037109375,2449.68212890625,2699.902587890625,2850.36328125,2768.34423828125,2488.565185546875,2310.76416015625,2328.14697265625,2603.69287109375,2665.4599609375,2712.938232421875,2839.96142578125,2729.065185546875,2616.271240234375,2665.10546875,2597.01416015625,2540.611083984375,2591.179931640625,2502.60986328125,2368.592529296875,2362.133056640625,2471.93212890625,2570.832763671875,2578.75244140625,2417.7666015625,2367.26220703125,2261.45849609375,2183.62890625,2224.51123046875,2032.7645263671875,1912.2750244140625,1934.11767578125,1979.446533203125,1912.7467041015625,1853.8870849609375,1931.1650390625,2065.06396484375,2177.799072265625,2286.287841796875,2202.506591796875,2168.4462890625,2210.220703125,2308.2919921875,2271.956787109375,2314.96630859375,2332.0283203125,2198.53125,2159.849609375,2134.163330078125,2141.362060546875,2087.5498046875,1999.81640625,1998.1031494140625,1955.86083984375,1911.1485595703125,1910.8536376953125,1923.2236328125,1884.600830078125,1843.3837890625,1954.53515625,2039.6903076171875,2123.79541015625,2196.2783203125,2231.621826171875,2267.74365234375,2302.965087890625,2314.903076171875,2373.125732421875,2458.96875,2542.15673828125,2571.024169921875,2618.883544921875,2554.240966796875,2688.593994140625,2822.64892578125,2888.583251953125,3123.68017578125,3045.5498046875,3118.32763671875,3135.46923828125,3148.762939453125,3048.623779296875,3262.40869140625,3264.50048828125,3290.861083984375,3162.333251953125,3012.489501953125,3008.55322265625,3075.539306640625,3240.95361328125,3226.992431640625,3230.001708984375,3307.838134765625,3184.37353515625,3203.621826171875,3121.5478515625,3229.459716796875,3230.880859375,3216.010986328125,3227.90625,3421.380859375,3758.287353515625,3780.181396484375,3914.66455078125,3870.373046875,3912.576416015625,3916.65673828125,3452.844482421875,3478.820068359375,3401.357421875,3183.13720703125,3227.390869140625,3383.445556640625,3307.10546875,3396.81298828125,3565.01611328125,3563.320068359375,3403.727783203125,3406.416015625,3318.551025390625,2994.26708984375,2751.20703125,2974.904052734375,3126.802734375,2989.928466796875,2943.156982421875,3037.3125,2946.0146484375,2811.452392578125,2830.259765625,2979.41162109375,3272.430419921875,3401.669921875,3428.3359375,3401.435546875,3504.50146484375,3587.129638671875,3581.628662109375,3547.57177734375,3562.08154296875,3428.737548828125,3509.649658203125,3489.63525390625,3579.566162109375,3776.245849609375,3871.25341796875,3827.507080078125,3832.159912109375,3742.901611328125,3854.983642578125,4141.9423828125,4103.17578125,3937.523681640625,4148.80859375,4058.693603515625,4196.42822265625,4131.60546875,3939.65380859375,4270.0703125,4379.55810546875,4262.759765625,4277.716796875,4305.83447265625,4543.21728515625,4553.7880859375,4484.75537109375,4457.72607421875,4490.1396484375,4575.21337890625,4775.482421875,4676.59521484375,4603.0654296875,4692.22607421875,4630.4462890625,4606.28125,4599.7509765625,4547.52001953125,4228.86865234375,4284.52978515625,3970.00927734375,4282.60693359375,4399.49267578125,4283.08544921875,4095.14013671875,4347.732421875,4232.06103515625,4478.68212890625,4031.567626953125,4059.090087890625,4277.93505859375,4406.693359375,4613.3779296875,4545.25439453125,4483.43505859375,4224.169921875,4113.44482421875,4168.24560546875,4330.73828125,4273.078125,4403.4833984375,4141.345703125,3921.70849609375,4067.50634765625,4099.966796875,3779.353759765625,3854.572509765625,4014.0185546875,3942.177001953125,3888.896728515625,3957.17626953125,3913.9453125,3954.423583984375,4025.417724609375,3978.583251953125,4105.1005859375,4039.14501953125,4092.49169921875,4066.185546875,4031.2333984375,3815.411865234375,3633.72607421875,3700.698974609375,3682.337646484375,3762.745849609375,3833.579833984375,3770.479736328125,3805.78857421875,3570.880859375,3428.990234375,3208.646484375,3082.490478515625,3125.685302734375,3099.0234375,3231.31396484375,3381.075927734375,3281.168701171875,3312.535400390625,3332.685791015625,3356.386474609375,3238.406494140625,3177.0205078125,3113.224365234375,3028.155029296875,2645.80126953125,2431.212158203125,2479.025146484375,2472.544189453125,2474.296142578125,2498.9638671875,2452.555419921875,2538.544921875,2614.3330078125,2639.08984375,2706.6484375,2809.87255859375,2744.86083984375,2701.682373046875,2943.93359375,3046.697265625,3083.7939453125,3172.6259765625,3161.414306640625,3244.057373046875,3123.848388671875,2955.319580078125,2911.8193359375,2888.55029296875,2938.491943359375,3171.72119140625,3176.26953125,2939.404052734375,2816.7099609375,2764.491943359375,2656.491943359375,2602.614013671875,2646.687744140625,2625.584716796875,2640.183349609375,2766.783935546875,2807.439697265625,2691.420654296875,2891.04736328125,3002.335693359375,2989.896728515625,2881.7587890625,2674.463134765625,2655.919189453125,2585.08544921875,2531.2958984375,2582.866943359375,2726.955078125,2674.404541015625,2606.724609375,2596.147705078125,2553.546875,2600.379150390625,2649.05078125,2787.89501953125,2850.19873046875,2964.8818359375,2983.719970703125,2903.691650390625,2916.9794921875,2985.702392578125,3047.314208984375,3129.843994140625,3139.0498046875,3156.010009765625,3295.92529296875,3363.791015625,3423.0126953125,3411.401611328125,3313.376220703125,3460.1572265625,3469.830322265625,3525.8701171875,3547.965087890625,3450.620361328125,3221.104736328125,3227.47607421875,3199.197265625,3257.984130859375,3250.087158203125,3048.4482421875,3047.312255859375,3122.930419921875,3054.97802734375,3060.6669921875,3085.020263671875,3025.977294921875,null,null,null,null,null,null,null,null,null,null,null,null,null,null,null,null,null,null,null,null,null,null,null,null,null,null,null,null,null,null,null,null,null,null,null,null,null,null,null,null,null,null,null,null,null,null,null,null,null,null,null,null,null,null,null,null,null,null,null,null,null,null,null,null,null,null,null,null,null,null,null,null,null,null,null,null,null,null,null,null,null,null,null,null,null,null,null,null,null,null,null,null,null,null,null,null,null,null,null,null,null,null,null,null,null,null,null,null,null,null,null,null,null,null,null,null,null,null,null,null,null,null,null,null,null,null,null,null,null,null,null,null,null,null,null,null,null,null,null,null,null,null,null,null,null,null,null,null,null,null,null,null,null,null,null,null,null,null,null,null,null,null,null,null,null,null,null,null,null,null,null,null,null,null,null,null,null,null,null,null,null,null,null,null,null,null,null,null,null,null,null,null,null,null,null,null,null,null,null,null,null,null,null,null,null,null,null,null,null,null,null,null,null,null,null,null,null,null,null,null,null,null,null,null,null,null,null,null,null,null,null,null,null,null,null,null,null,null,null,null,null,null,null,null,null,null,null,null,null,null,null,null,null,null,null,null,null,null,null,null,null,null,null,null,null,null,null,null,null,null,null,null,null,null,null,null,null,null,null,null,null,null,null,null,null,null,null,null,null,null,null,null,null,null,null,null,null,null,null,null,null,null,null,null,null,null,null,null,null,null,null,null,null,null,null,null,null,null,null,null,null,null,null,null,null,null,null,null,null,null,null,null,null,null,null,null,null,null,null,null,null,null,null,null,null,null,null,null,null,null,null,null,null,null],\"type\":\"scatter\"},{\"mode\":\"lines\",\"name\":\"Test prediction\",\"x\":[0,1,2,3,4,5,6,7,8,9,10,11,12,13,14,15,16,17,18,19,20,21,22,23,24,25,26,27,28,29,30,31,32,33,34,35,36,37,38,39,40,41,42,43,44,45,46,47,48,49,50,51,52,53,54,55,56,57,58,59,60,61,62,63,64,65,66,67,68,69,70,71,72,73,74,75,76,77,78,79,80,81,82,83,84,85,86,87,88,89,90,91,92,93,94,95,96,97,98,99,100,101,102,103,104,105,106,107,108,109,110,111,112,113,114,115,116,117,118,119,120,121,122,123,124,125,126,127,128,129,130,131,132,133,134,135,136,137,138,139,140,141,142,143,144,145,146,147,148,149,150,151,152,153,154,155,156,157,158,159,160,161,162,163,164,165,166,167,168,169,170,171,172,173,174,175,176,177,178,179,180,181,182,183,184,185,186,187,188,189,190,191,192,193,194,195,196,197,198,199,200,201,202,203,204,205,206,207,208,209,210,211,212,213,214,215,216,217,218,219,220,221,222,223,224,225,226,227,228,229,230,231,232,233,234,235,236,237,238,239,240,241,242,243,244,245,246,247,248,249,250,251,252,253,254,255,256,257,258,259,260,261,262,263,264,265,266,267,268,269,270,271,272,273,274,275,276,277,278,279,280,281,282,283,284,285,286,287,288,289,290,291,292,293,294,295,296,297,298,299,300,301,302,303,304,305,306,307,308,309,310,311,312,313,314,315,316,317,318,319,320,321,322,323,324,325,326,327,328,329,330,331,332,333,334,335,336,337,338,339,340,341,342,343,344,345,346,347,348,349,350,351,352,353,354,355,356,357,358,359,360,361,362,363,364,365,366,367,368,369,370,371,372,373,374,375,376,377,378,379,380,381,382,383,384,385,386,387,388,389,390,391,392,393,394,395,396,397,398,399,400,401,402,403,404,405,406,407,408,409,410,411,412,413,414,415,416,417,418,419,420,421,422,423,424,425,426,427,428,429,430,431,432,433,434,435,436,437,438,439,440,441,442,443,444,445,446,447,448,449,450,451,452,453,454,455,456,457,458,459,460,461,462,463,464,465,466,467,468,469,470,471,472,473,474,475,476,477,478,479,480,481,482,483,484,485,486,487,488,489,490,491,492,493,494,495,496,497,498,499,500,501,502,503,504,505,506,507,508,509,510,511,512,513,514,515,516,517,518,519,520,521,522,523,524,525,526,527,528,529,530,531,532,533,534,535,536,537,538,539,540,541,542,543,544,545,546,547,548,549,550,551,552,553,554,555,556,557,558,559,560,561,562,563,564,565,566,567,568,569,570,571,572,573,574,575,576,577,578,579,580,581,582,583,584,585,586,587,588,589,590,591,592,593,594,595,596,597,598,599,600,601,602,603,604,605,606,607,608,609,610,611,612,613,614,615,616,617,618,619,620,621,622,623,624,625,626,627,628,629,630,631,632,633,634,635,636,637,638,639,640,641,642,643,644,645,646,647,648,649,650,651,652,653,654,655,656,657,658,659,660,661,662,663,664,665,666,667,668,669,670,671,672,673,674,675,676,677,678,679,680,681,682,683,684,685,686,687,688,689,690,691,692,693,694,695,696,697,698,699,700,701,702,703,704,705,706,707,708,709,710,711,712,713,714,715,716,717,718,719,720,721,722,723,724,725,726,727,728,729,730,731,732,733,734,735,736,737,738,739,740,741,742,743,744,745,746,747,748,749,750,751,752,753,754,755,756,757,758,759,760,761,762,763,764,765,766,767,768,769,770,771,772,773,774,775,776,777,778,779,780,781,782,783,784,785,786,787,788,789,790,791,792,793,794,795,796,797,798,799,800,801,802,803,804,805,806,807,808,809,810,811,812,813,814,815,816,817,818,819,820,821,822,823,824,825,826,827,828,829,830,831,832,833,834,835,836,837,838,839,840,841,842,843,844,845,846,847,848,849,850,851,852,853,854,855,856,857,858,859,860,861,862,863,864,865,866,867,868,869,870,871,872,873,874,875,876,877,878,879,880,881,882,883,884,885,886,887,888,889,890,891,892,893,894,895,896,897,898,899,900,901,902,903,904,905,906,907,908,909,910,911,912,913,914,915,916,917,918,919,920,921,922,923,924,925,926,927,928,929,930,931,932,933,934,935,936,937,938,939,940,941,942,943,944,945,946,947,948,949,950,951,952,953,954,955,956,957,958,959,960,961,962,963,964,965,966,967,968,969,970,971,972,973,974,975,976,977,978,979,980,981,982,983,984,985,986,987,988,989,990,991,992,993,994,995,996,997,998,999,1000,1001,1002,1003,1004,1005,1006,1007,1008,1009,1010,1011,1012,1013,1014,1015,1016,1017,1018,1019,1020,1021,1022,1023,1024,1025,1026,1027,1028,1029,1030,1031,1032,1033,1034,1035,1036,1037,1038,1039,1040,1041,1042,1043,1044,1045,1046,1047,1048,1049,1050,1051,1052,1053,1054,1055,1056,1057,1058,1059,1060,1061,1062,1063,1064,1065,1066,1067,1068,1069,1070,1071,1072,1073,1074,1075,1076,1077,1078,1079,1080,1081,1082,1083,1084,1085,1086,1087,1088,1089,1090,1091,1092,1093,1094,1095,1096,1097,1098,1099,1100,1101,1102,1103,1104,1105,1106,1107,1108,1109,1110,1111,1112,1113,1114,1115,1116,1117,1118,1119,1120,1121,1122,1123,1124,1125,1126,1127,1128,1129,1130,1131,1132,1133,1134,1135,1136,1137,1138,1139,1140,1141,1142,1143,1144,1145,1146,1147,1148,1149,1150,1151,1152,1153,1154,1155,1156,1157,1158,1159,1160,1161,1162,1163,1164,1165,1166,1167,1168,1169,1170,1171,1172,1173,1174,1175,1176,1177,1178,1179,1180,1181,1182,1183,1184,1185,1186,1187,1188,1189,1190,1191,1192,1193,1194,1195,1196,1197,1198,1199,1200,1201,1202,1203,1204,1205,1206,1207,1208,1209,1210,1211,1212,1213,1214,1215,1216,1217,1218,1219,1220,1221,1222,1223,1224,1225,1226,1227,1228,1229,1230,1231,1232,1233,1234,1235,1236,1237,1238,1239,1240,1241,1242,1243,1244,1245,1246,1247,1248,1249,1250,1251,1252,1253,1254,1255,1256,1257,1258,1259,1260,1261,1262,1263,1264,1265,1266,1267,1268,1269,1270,1271,1272,1273,1274,1275,1276,1277,1278,1279,1280,1281,1282,1283,1284,1285,1286,1287,1288,1289,1290,1291,1292,1293,1294,1295,1296,1297,1298,1299,1300,1301,1302,1303,1304,1305,1306,1307,1308,1309,1310,1311,1312,1313,1314,1315,1316,1317,1318,1319,1320,1321,1322,1323,1324,1325,1326,1327,1328,1329,1330,1331,1332,1333,1334,1335,1336,1337,1338,1339,1340,1341,1342,1343,1344,1345,1346,1347,1348,1349,1350,1351,1352,1353,1354,1355,1356,1357,1358,1359,1360,1361,1362,1363,1364,1365,1366,1367,1368,1369,1370,1371,1372,1373,1374,1375,1376,1377,1378,1379,1380,1381,1382,1383,1384,1385,1386,1387,1388,1389,1390,1391,1392,1393,1394,1395,1396,1397,1398,1399,1400,1401,1402,1403,1404,1405,1406,1407,1408,1409,1410,1411,1412,1413,1414,1415,1416,1417,1418,1419,1420,1421,1422,1423,1424,1425,1426,1427,1428,1429,1430,1431,1432,1433,1434,1435,1436,1437,1438,1439,1440,1441,1442,1443,1444,1445,1446,1447,1448,1449,1450,1451,1452,1453,1454,1455,1456,1457,1458,1459,1460,1461,1462,1463,1464,1465,1466,1467,1468,1469,1470,1471,1472,1473,1474,1475,1476,1477,1478,1479,1480,1481,1482,1483,1484,1485,1486,1487,1488,1489,1490,1491,1492,1493,1494,1495,1496,1497,1498,1499,1500,1501,1502,1503,1504,1505,1506,1507,1508,1509,1510,1511,1512,1513,1514,1515,1516,1517,1518,1519,1520,1521,1522,1523,1524,1525,1526,1527,1528,1529,1530,1531,1532,1533,1534,1535,1536,1537,1538,1539,1540,1541,1542,1543,1544,1545,1546,1547,1548,1549,1550,1551,1552,1553,1554,1555,1556,1557,1558,1559,1560,1561,1562,1563,1564,1565,1566,1567,1568,1569,1570,1571,1572,1573,1574,1575,1576,1577,1578,1579,1580,1581,1582,1583,1584,1585,1586,1587,1588,1589,1590,1591,1592,1593,1594,1595,1596,1597,1598,1599,1600,1601,1602,1603,1604,1605,1606,1607,1608,1609,1610,1611,1612,1613,1614,1615,1616,1617,1618,1619,1620,1621,1622,1623,1624,1625,1626,1627,1628,1629,1630,1631,1632,1633,1634,1635,1636,1637,1638,1639,1640,1641,1642,1643,1644,1645,1646,1647,1648,1649,1650,1651,1652,1653,1654,1655,1656,1657,1658,1659,1660,1661,1662,1663,1664,1665,1666,1667,1668,1669,1670,1671,1672,1673,1674,1675,1676,1677,1678,1679,1680,1681,1682,1683,1684,1685,1686,1687,1688,1689,1690,1691,1692,1693,1694,1695,1696,1697,1698,1699,1700,1701,1702,1703,1704,1705,1706,1707,1708,1709,1710,1711,1712,1713,1714,1715,1716,1717,1718,1719,1720,1721,1722,1723,1724,1725,1726,1727,1728,1729,1730,1731,1732,1733,1734,1735,1736,1737,1738,1739,1740,1741,1742,1743,1744,1745,1746,1747,1748,1749,1750,1751,1752,1753,1754,1755,1756,1757,1758,1759,1760,1761,1762,1763,1764,1765,1766,1767,1768,1769,1770,1771,1772,1773,1774,1775,1776,1777,1778,1779,1780,1781,1782,1783,1784,1785,1786,1787,1788,1789,1790,1791,1792,1793,1794,1795,1796,1797,1798,1799,1800,1801],\"y\":[null,null,null,null,null,null,null,null,null,null,null,null,null,null,null,null,null,null,null,null,null,null,null,null,null,null,null,null,null,null,null,null,null,null,null,null,null,null,null,null,null,null,null,null,null,null,null,null,null,null,null,null,null,null,null,null,null,null,null,null,null,null,null,null,null,null,null,null,null,null,null,null,null,null,null,null,null,null,null,null,null,null,null,null,null,null,null,null,null,null,null,null,null,null,null,null,null,null,null,null,null,null,null,null,null,null,null,null,null,null,null,null,null,null,null,null,null,null,null,null,null,null,null,null,null,null,null,null,null,null,null,null,null,null,null,null,null,null,null,null,null,null,null,null,null,null,null,null,null,null,null,null,null,null,null,null,null,null,null,null,null,null,null,null,null,null,null,null,null,null,null,null,null,null,null,null,null,null,null,null,null,null,null,null,null,null,null,null,null,null,null,null,null,null,null,null,null,null,null,null,null,null,null,null,null,null,null,null,null,null,null,null,null,null,null,null,null,null,null,null,null,null,null,null,null,null,null,null,null,null,null,null,null,null,null,null,null,null,null,null,null,null,null,null,null,null,null,null,null,null,null,null,null,null,null,null,null,null,null,null,null,null,null,null,null,null,null,null,null,null,null,null,null,null,null,null,null,null,null,null,null,null,null,null,null,null,null,null,null,null,null,null,null,null,null,null,null,null,null,null,null,null,null,null,null,null,null,null,null,null,null,null,null,null,null,null,null,null,null,null,null,null,null,null,null,null,null,null,null,null,null,null,null,null,null,null,null,null,null,null,null,null,null,null,null,null,null,null,null,null,null,null,null,null,null,null,null,null,null,null,null,null,null,null,null,null,null,null,null,null,null,null,null,null,null,null,null,null,null,null,null,null,null,null,null,null,null,null,null,null,null,null,null,null,null,null,null,null,null,null,null,null,null,null,null,null,null,null,null,null,null,null,null,null,null,null,null,null,null,null,null,null,null,null,null,null,null,null,null,null,null,null,null,null,null,null,null,null,null,null,null,null,null,null,null,null,null,null,null,null,null,null,null,null,null,null,null,null,null,null,null,null,null,null,null,null,null,null,null,null,null,null,null,null,null,null,null,null,null,null,null,null,null,null,null,null,null,null,null,null,null,null,null,null,null,null,null,null,null,null,null,null,null,null,null,null,null,null,null,null,null,null,null,null,null,null,null,null,null,null,null,null,null,null,null,null,null,null,null,null,null,null,null,null,null,null,null,null,null,null,null,null,null,null,null,null,null,null,null,null,null,null,null,null,null,null,null,null,null,null,null,null,null,null,null,null,null,null,null,null,null,null,null,null,null,null,null,null,null,null,null,null,null,null,null,null,null,null,null,null,null,null,null,null,null,null,null,null,null,null,null,null,null,null,null,null,null,null,null,null,null,null,null,null,null,null,null,null,null,null,null,null,null,null,null,null,null,null,null,null,null,null,null,null,null,null,null,null,null,null,null,null,null,null,null,null,null,null,null,null,null,null,null,null,null,null,null,null,null,null,null,null,null,null,null,null,null,null,null,null,null,null,null,null,null,null,null,null,null,null,null,null,null,null,null,null,null,null,null,null,null,null,null,null,null,null,null,null,null,null,null,null,null,null,null,null,null,null,null,null,null,null,null,null,null,null,null,null,null,null,null,null,null,null,null,null,null,null,null,null,null,null,null,null,null,null,null,null,null,null,null,null,null,null,null,null,null,null,null,null,null,null,null,null,null,null,null,null,null,null,null,null,null,null,null,null,null,null,null,null,null,null,null,null,null,null,null,null,null,null,null,null,null,null,null,null,null,null,null,null,null,null,null,null,null,null,null,null,null,null,null,null,null,null,null,null,null,null,null,null,null,null,null,null,null,null,null,null,null,null,null,null,null,null,null,null,null,null,null,null,null,null,null,null,null,null,null,null,null,null,null,null,null,null,null,null,null,null,null,null,null,null,null,null,null,null,null,null,null,null,null,null,null,null,null,null,null,null,null,null,null,null,null,null,null,null,null,null,null,null,null,null,null,null,null,null,null,null,null,null,null,null,null,null,null,null,null,null,null,null,null,null,null,null,null,null,null,null,null,null,null,null,null,null,null,null,null,null,null,null,null,null,null,null,null,null,null,null,null,null,null,null,null,null,null,null,null,null,null,null,null,null,null,null,null,null,null,null,null,null,null,null,null,null,null,null,null,null,null,null,null,null,null,null,null,null,null,null,null,null,null,null,null,null,null,null,null,null,null,null,null,null,null,null,null,null,null,null,null,null,null,null,null,null,null,null,null,null,null,null,null,null,null,null,null,null,null,null,null,null,null,null,null,null,null,null,null,null,null,null,null,null,null,null,null,null,null,null,null,null,null,null,null,null,null,null,null,null,null,null,null,null,null,null,null,null,null,null,null,null,null,null,null,null,null,null,null,null,null,null,null,null,null,null,null,null,null,null,null,null,null,null,null,null,null,null,null,null,null,null,null,null,null,null,null,null,null,null,null,null,null,null,null,null,null,null,null,null,null,null,null,null,null,null,null,null,null,null,null,null,null,null,null,null,null,null,null,null,null,null,null,null,null,null,null,null,null,null,null,null,null,null,null,null,null,null,null,null,null,null,null,null,null,null,null,null,null,null,null,null,null,null,null,null,null,null,null,null,null,null,null,null,null,null,null,null,null,null,null,null,null,null,null,null,null,null,null,null,null,null,null,null,null,null,null,null,null,null,null,null,null,null,null,null,null,null,null,null,null,null,null,null,null,null,null,null,null,null,null,null,null,null,null,null,null,null,null,null,null,null,null,null,null,null,null,null,null,null,null,null,null,null,null,null,null,null,null,null,null,null,null,null,null,null,null,null,null,null,null,null,null,null,null,null,null,null,null,null,null,null,null,null,null,null,null,null,null,null,null,null,null,null,null,null,null,null,null,null,null,null,null,null,null,null,null,null,null,null,null,null,null,null,null,null,null,null,null,null,null,null,null,null,null,null,null,null,null,null,null,null,null,null,null,null,null,null,null,null,null,null,null,null,null,null,null,null,null,null,null,null,null,null,null,null,null,null,null,null,null,null,null,null,null,null,null,null,null,null,null,null,null,null,null,null,null,null,null,null,null,null,null,null,null,null,null,null,null,null,null,null,null,null,null,null,null,null,null,null,null,null,null,null,null,null,null,null,null,null,null,null,null,null,null,null,null,null,null,null,null,null,null,null,null,null,null,null,null,null,null,null,null,null,null,null,null,null,null,null,null,null,null,null,null,null,null,null,null,null,null,null,null,null,null,null,null,null,null,null,null,null,null,null,null,null,null,null,null,3087.400390625,3127.41064453125,3113.26611328125,3034.4482421875,2991.9306640625,2956.153564453125,2946.079833984375,3036.884033203125,2867.90673828125,2899.510986328125,2956.133056640625,2867.4775390625,2773.8056640625,2840.995849609375,2891.3818359375,2832.71044921875,2955.8349609375,2828.55419921875,2739.712646484375,2671.119384765625,2570.4580078125,2348.976806640625,2351.115966796875,2185.580322265625,2042.185302734375,2020.38134765625,2066.737548828125,2160.96142578125,2126.246826171875,2138.3388671875,2027.739990234375,2043.6282958984375,2027.8836669921875,2023.8604736328125,2076.90869140625,2059.75537109375,2042.6844482421875,2014.1800537109375,1921.52197265625,1822.71875,1820.5435791015625,1849.6646728515625,1990.2969970703125,2030.460693359375,1951.4326171875,1903.2662353515625,1851.422119140625,1843.7884521484375,1855.076171875,1904.172119140625,1907.6937255859375,1876.8424072265625,1851.761962890625,1773.3995361328125,1655.4464111328125,1558.6502685546875,1398.0328369140625,1303.40283203125,1281.4322509765625,1200.1834716796875,1154.55126953125,1099.8245849609375,1126.2618408203125,1164.10107421875,1183.3800048828125,1155.093505859375,1170.842529296875,1235.830322265625,1286.538330078125,1288.0914306640625,1273.7413330078125,1238.579833984375,1195.08349609375,1146.197509765625,1126.4334716796875,1118.165283203125,1119.4913330078125,1161.4915771484375,1187.1666259765625,1220.8897705078125,1265.89404296875,1291.02734375,1285.9798583984375,1255.2896728515625,1200.3349609375,1139.8194580078125,1140.308837890625,1192.154052734375,1254.267822265625,1349.3050537109375,1401.233642578125,1538.5010986328125,1610.0484619140625,1613.4765625,1626.341796875,1611.14111328125,1606.1640625,1638.12548828125,1581.455078125,1524.411376953125,1608.4837646484375,1731.931884765625,1804.120849609375,1786.5445556640625,1753.975830078125,1712.373291015625,1699.287109375,1683.825439453125,1671.418212890625,1735.3985595703125,1757.0029296875,1760.28125,1808.9080810546875,1795.3157958984375,1864.201904296875,1926.89404296875,1993.7567138671875,2034.87841796875,2012.8193359375,1981.1798095703125,1943.4385986328125,1904.7613525390625,1896.1168212890625,1764.1663818359375,1662.955322265625,1651.501708984375,1663.273681640625,1702.2711181640625,1719.68701171875,1745.0911865234375,1654.13623046875,1579.55859375,1518.2099609375,1560.581298828125,1590.1607666015625,1611.6754150390625,1637.8349609375,1644.1492919921875,1627.1663818359375,1629.71630859375,1660.1622314453125,1654.4769287109375,1677.9393310546875,1694.83740234375,1750.3963623046875,1814.193115234375,1831.12060546875,1801.0447998046875,1701.543212890625,1677.033935546875,1595.4208984375,1521.2208251953125,1507.7889404296875,1448.2215576171875,1434.1514892578125,1406.4066162109375,1356.439208984375,1364.38916015625,1382.9368896484375,1384.7171630859375,1370.2103271484375,1382.302001953125,1393.841796875,1402.999267578125,1402.2403564453125,1397.0328369140625,1381.396240234375,1357.717041015625,1367.8046875,1401.171875,1417.7486572265625,1422.0208740234375,1406.052734375,1387.1346435546875,1380.8785400390625,1367.5228271484375,1353.1810302734375,1352.4713134765625,1356.2236328125,1360.357421875,1349.1566162109375,1355.05078125,1377.8427734375,1382.4224853515625,1365.315673828125,1350.9403076171875,1353.3228759765625,1363.8687744140625,1398.8238525390625,1412.8515625,1480.238037109375,1585.1943359375,1606.306396484375,1617.3084716796875,1657.8941650390625,1661.254150390625,1649.2474365234375,1646.7987060546875,1617.14697265625,1598.4989013671875,1664.751953125,1690.91455078125,1665.6875,1646.3526611328125,1508.143310546875,1300.6641845703125,1282.4949951171875,1310.2503662109375,1316.463623046875,1299.9093017578125,1298.5609130859375,1304.8092041015625,1292.655029296875,1274.2080078125,1268.32421875,1271.0318603515625,1240.60693359375,1201.4107666015625,1189.3797607421875,1212.83740234375,1242.8363037109375,1258.0008544921875,1264.436767578125,1261.6221923828125,1246.2628173828125,1257.9151611328125,1312.862548828125,1338.4666748046875,1352.05322265625,1331.8875732421875,1332.2325439453125,1327.4056396484375,1328.543212890625,1312.6170654296875,1323.9327392578125,1327.9371337890625,1326.9619140625,1325.315673828125,1331.232421875,1360.116943359375,1373.1318359375,1352.056884765625,1286.33349609375,1251.7169189453125,1239.99267578125,1231.3968505859375,1252.6002197265625,1267.1571044921875,1276.1290283203125,1280.4019775390625,1280.7574462890625,1280.0025634765625,1282.480224609375,1278.3863525390625,1263.651611328125,1258.89404296875,1257.99609375,1256.48388671875,1257.4178466796875,1266.357421875,1272.6558837890625,1297.085693359375,1309.9063720703125,1323.85546875,1326.88916015625,1336.90673828125,1365.3504638671875,1389.0640869140625,1428.382080078125,1468.808837890625,1502.37353515625,1575.3096923828125,1611.53564453125,1636.8582763671875,1639.7581787109375,1610.2093505859375,1604.23388671875,1671.092041015625,1696.7613525390625,1700.3282470703125,1698.5780029296875,1652.1822509765625,1658.2198486328125,1663.6314697265625,1663.3348388671875,1645.4471435546875,1679.306640625,1659.6485595703125,1648.0390625,1678.533203125,1706.0916748046875,1724.5191650390625,1730.4263916015625,1710.971435546875,1688.1104736328125,1711.6575927734375,1717.972900390625,1658.3953857421875,1600.953857421875,1588.2467041015625,1578.7484130859375,1574.320068359375,1600.1378173828125,1684.0523681640625,1719.357666015625,1750.6612548828125,1756.4093017578125,1750.501708984375,1756.7325439453125,1735.6744384765625,1714.2860107421875,1708.750244140625,1685.13818359375,1661.592041015625,1679.5867919921875,1693.7984619140625,1681.466796875,1705.900146484375,1713.3929443359375,1670.2694091796875,1636.2999267578125,1652.62109375,1627.109375,1616.0162353515625,1603.9117431640625,1544.198486328125,1505.47900390625,1515.105712890625,1589.326416015625,1721.87744140625,1769.650634765625,1746.0782470703125,1745.594482421875,1803.523681640625,1828.1500244140625,1854.2144775390625,1829.1463623046875,1848.7783203125,1828.1971435546875,1857.0701904296875,1837.37548828125,1817.3140869140625,1825.8397216796875,1798.4071044921875,1815.89306640625,1844.173095703125,1856.066162109375,1876.48193359375,1881.8587646484375,1866.87548828125,1869.4566650390625,1908.75244140625,1956.264404296875,1948.384521484375,null],\"type\":\"scatter\"},{\"mode\":\"lines\",\"name\":\"Actual Value\",\"x\":[0,1,2,3,4,5,6,7,8,9,10,11,12,13,14,15,16,17,18,19,20,21,22,23,24,25,26,27,28,29,30,31,32,33,34,35,36,37,38,39,40,41,42,43,44,45,46,47,48,49,50,51,52,53,54,55,56,57,58,59,60,61,62,63,64,65,66,67,68,69,70,71,72,73,74,75,76,77,78,79,80,81,82,83,84,85,86,87,88,89,90,91,92,93,94,95,96,97,98,99,100,101,102,103,104,105,106,107,108,109,110,111,112,113,114,115,116,117,118,119,120,121,122,123,124,125,126,127,128,129,130,131,132,133,134,135,136,137,138,139,140,141,142,143,144,145,146,147,148,149,150,151,152,153,154,155,156,157,158,159,160,161,162,163,164,165,166,167,168,169,170,171,172,173,174,175,176,177,178,179,180,181,182,183,184,185,186,187,188,189,190,191,192,193,194,195,196,197,198,199,200,201,202,203,204,205,206,207,208,209,210,211,212,213,214,215,216,217,218,219,220,221,222,223,224,225,226,227,228,229,230,231,232,233,234,235,236,237,238,239,240,241,242,243,244,245,246,247,248,249,250,251,252,253,254,255,256,257,258,259,260,261,262,263,264,265,266,267,268,269,270,271,272,273,274,275,276,277,278,279,280,281,282,283,284,285,286,287,288,289,290,291,292,293,294,295,296,297,298,299,300,301,302,303,304,305,306,307,308,309,310,311,312,313,314,315,316,317,318,319,320,321,322,323,324,325,326,327,328,329,330,331,332,333,334,335,336,337,338,339,340,341,342,343,344,345,346,347,348,349,350,351,352,353,354,355,356,357,358,359,360,361,362,363,364,365,366,367,368,369,370,371,372,373,374,375,376,377,378,379,380,381,382,383,384,385,386,387,388,389,390,391,392,393,394,395,396,397,398,399,400,401,402,403,404,405,406,407,408,409,410,411,412,413,414,415,416,417,418,419,420,421,422,423,424,425,426,427,428,429,430,431,432,433,434,435,436,437,438,439,440,441,442,443,444,445,446,447,448,449,450,451,452,453,454,455,456,457,458,459,460,461,462,463,464,465,466,467,468,469,470,471,472,473,474,475,476,477,478,479,480,481,482,483,484,485,486,487,488,489,490,491,492,493,494,495,496,497,498,499,500,501,502,503,504,505,506,507,508,509,510,511,512,513,514,515,516,517,518,519,520,521,522,523,524,525,526,527,528,529,530,531,532,533,534,535,536,537,538,539,540,541,542,543,544,545,546,547,548,549,550,551,552,553,554,555,556,557,558,559,560,561,562,563,564,565,566,567,568,569,570,571,572,573,574,575,576,577,578,579,580,581,582,583,584,585,586,587,588,589,590,591,592,593,594,595,596,597,598,599,600,601,602,603,604,605,606,607,608,609,610,611,612,613,614,615,616,617,618,619,620,621,622,623,624,625,626,627,628,629,630,631,632,633,634,635,636,637,638,639,640,641,642,643,644,645,646,647,648,649,650,651,652,653,654,655,656,657,658,659,660,661,662,663,664,665,666,667,668,669,670,671,672,673,674,675,676,677,678,679,680,681,682,683,684,685,686,687,688,689,690,691,692,693,694,695,696,697,698,699,700,701,702,703,704,705,706,707,708,709,710,711,712,713,714,715,716,717,718,719,720,721,722,723,724,725,726,727,728,729,730,731,732,733,734,735,736,737,738,739,740,741,742,743,744,745,746,747,748,749,750,751,752,753,754,755,756,757,758,759,760,761,762,763,764,765,766,767,768,769,770,771,772,773,774,775,776,777,778,779,780,781,782,783,784,785,786,787,788,789,790,791,792,793,794,795,796,797,798,799,800,801,802,803,804,805,806,807,808,809,810,811,812,813,814,815,816,817,818,819,820,821,822,823,824,825,826,827,828,829,830,831,832,833,834,835,836,837,838,839,840,841,842,843,844,845,846,847,848,849,850,851,852,853,854,855,856,857,858,859,860,861,862,863,864,865,866,867,868,869,870,871,872,873,874,875,876,877,878,879,880,881,882,883,884,885,886,887,888,889,890,891,892,893,894,895,896,897,898,899,900,901,902,903,904,905,906,907,908,909,910,911,912,913,914,915,916,917,918,919,920,921,922,923,924,925,926,927,928,929,930,931,932,933,934,935,936,937,938,939,940,941,942,943,944,945,946,947,948,949,950,951,952,953,954,955,956,957,958,959,960,961,962,963,964,965,966,967,968,969,970,971,972,973,974,975,976,977,978,979,980,981,982,983,984,985,986,987,988,989,990,991,992,993,994,995,996,997,998,999,1000,1001,1002,1003,1004,1005,1006,1007,1008,1009,1010,1011,1012,1013,1014,1015,1016,1017,1018,1019,1020,1021,1022,1023,1024,1025,1026,1027,1028,1029,1030,1031,1032,1033,1034,1035,1036,1037,1038,1039,1040,1041,1042,1043,1044,1045,1046,1047,1048,1049,1050,1051,1052,1053,1054,1055,1056,1057,1058,1059,1060,1061,1062,1063,1064,1065,1066,1067,1068,1069,1070,1071,1072,1073,1074,1075,1076,1077,1078,1079,1080,1081,1082,1083,1084,1085,1086,1087,1088,1089,1090,1091,1092,1093,1094,1095,1096,1097,1098,1099,1100,1101,1102,1103,1104,1105,1106,1107,1108,1109,1110,1111,1112,1113,1114,1115,1116,1117,1118,1119,1120,1121,1122,1123,1124,1125,1126,1127,1128,1129,1130,1131,1132,1133,1134,1135,1136,1137,1138,1139,1140,1141,1142,1143,1144,1145,1146,1147,1148,1149,1150,1151,1152,1153,1154,1155,1156,1157,1158,1159,1160,1161,1162,1163,1164,1165,1166,1167,1168,1169,1170,1171,1172,1173,1174,1175,1176,1177,1178,1179,1180,1181,1182,1183,1184,1185,1186,1187,1188,1189,1190,1191,1192,1193,1194,1195,1196,1197,1198,1199,1200,1201,1202,1203,1204,1205,1206,1207,1208,1209,1210,1211,1212,1213,1214,1215,1216,1217,1218,1219,1220,1221,1222,1223,1224,1225,1226,1227,1228,1229,1230,1231,1232,1233,1234,1235,1236,1237,1238,1239,1240,1241,1242,1243,1244,1245,1246,1247,1248,1249,1250,1251,1252,1253,1254,1255,1256,1257,1258,1259,1260,1261,1262,1263,1264,1265,1266,1267,1268,1269,1270,1271,1272,1273,1274,1275,1276,1277,1278,1279,1280,1281,1282,1283,1284,1285,1286,1287,1288,1289,1290,1291,1292,1293,1294,1295,1296,1297,1298,1299,1300,1301,1302,1303,1304,1305,1306,1307,1308,1309,1310,1311,1312,1313,1314,1315,1316,1317,1318,1319,1320,1321,1322,1323,1324,1325,1326,1327,1328,1329,1330,1331,1332,1333,1334,1335,1336,1337,1338,1339,1340,1341,1342,1343,1344,1345,1346,1347,1348,1349,1350,1351,1352,1353,1354,1355,1356,1357,1358,1359,1360,1361,1362,1363,1364,1365,1366,1367,1368,1369,1370,1371,1372,1373,1374,1375,1376,1377,1378,1379,1380,1381,1382,1383,1384,1385,1386,1387,1388,1389,1390,1391,1392,1393,1394,1395,1396,1397,1398,1399,1400,1401,1402,1403,1404,1405,1406,1407,1408,1409,1410,1411,1412,1413,1414,1415,1416,1417,1418,1419,1420,1421,1422,1423,1424,1425,1426,1427,1428,1429,1430,1431,1432,1433,1434,1435,1436,1437,1438,1439,1440,1441,1442,1443,1444,1445,1446,1447,1448,1449,1450,1451,1452,1453,1454,1455,1456,1457,1458,1459,1460,1461,1462,1463,1464,1465,1466,1467,1468,1469,1470,1471,1472,1473,1474,1475,1476,1477,1478,1479,1480,1481,1482,1483,1484,1485,1486,1487,1488,1489,1490,1491,1492,1493,1494,1495,1496,1497,1498,1499,1500,1501,1502,1503,1504,1505,1506,1507,1508,1509,1510,1511,1512,1513,1514,1515,1516,1517,1518,1519,1520,1521,1522,1523,1524,1525,1526,1527,1528,1529,1530,1531,1532,1533,1534,1535,1536,1537,1538,1539,1540,1541,1542,1543,1544,1545,1546,1547,1548,1549,1550,1551,1552,1553,1554,1555,1556,1557,1558,1559,1560,1561,1562,1563,1564,1565,1566,1567,1568,1569,1570,1571,1572,1573,1574,1575,1576,1577,1578,1579,1580,1581,1582,1583,1584,1585,1586,1587,1588,1589,1590,1591,1592,1593,1594,1595,1596,1597,1598,1599,1600,1601,1602,1603,1604,1605,1606,1607,1608,1609,1610,1611,1612,1613,1614,1615,1616,1617,1618,1619,1620,1621,1622,1623,1624,1625,1626,1627,1628,1629,1630,1631,1632,1633,1634,1635,1636,1637,1638,1639,1640,1641,1642,1643,1644,1645,1646,1647,1648,1649,1650,1651,1652,1653,1654,1655,1656,1657,1658,1659,1660,1661,1662,1663,1664,1665,1666,1667,1668,1669,1670,1671,1672,1673,1674,1675,1676,1677,1678,1679,1680,1681,1682,1683,1684,1685,1686,1687,1688,1689,1690,1691,1692,1693,1694,1695,1696,1697,1698,1699,1700,1701,1702,1703,1704,1705,1706,1707,1708,1709,1710,1711,1712,1713,1714,1715,1716,1717,1718,1719,1720,1721,1722,1723,1724,1725,1726,1727,1728,1729,1730,1731,1732,1733,1734,1735,1736,1737,1738,1739,1740,1741,1742,1743,1744,1745,1746,1747,1748,1749,1750,1751,1752,1753,1754,1755,1756,1757,1758,1759,1760,1761,1762,1763,1764,1765,1766,1767,1768,1769,1770,1771,1772,1773,1774,1775,1776,1777,1778,1779,1780,1781,1782,1783,1784,1785,1786,1787,1788,1789,1790,1791,1792,1793,1794,1795,1796,1797,1798,1799,1800,1801],\"y\":[781.4257804747286,777.9076470179849,807.0673291637274,785.8927435105201,748.8131413938073,744.3248257193555,743.639815739903,717.4128743633592,675.2917525022058,683.1702676131071,726.8719105255798,727.8026816427881,703.1556814584169,702.4531187046044,665.6275313370154,686.2132687257346,685.8467539789949,703.8146666492305,688.9132212295281,641.1003511423174,581.2411880572672,597.848771866914,582.2793862832262,580.4834597869499,565.9260648024517,511.61588041076885,561.7406614509549,555.3491509790109,571.7271134994468,573.8335504842785,583.1316392150303,609.2946747342367,586.5759760467295,600.6782790386934,598.21609846407,595.1261406729993,590.4981451663733,581.1212496803587,522.9980386707371,529.1308297528115,495.07635586110644,474.8591130364949,516.644170370744,485.43283651591474,493.0678580653148,491.40027597923427,512.4288524669857,532.0039133610576,529.7630465685196,520.667164514144,463.94082865220423,472.97726476153474,455.7184306306675,458.92580124067393,430.601784410476,437.8765374730085,420.8621241639794,432.50722049091496,449.4300450718509,447.68055057356156,472.3116584377701,459.6987235407423,463.2222083049076,466.8794801007556,467.59011449272555,481.52382351190397,483.8040307751051,469.70222937322075,431.76445446277364,443.02543042646585,427.7922443639131,431.26693971293497,431.7845684182579,446.6095208682235,478.2085069609777,497.17754608491975,475.9901579076109,464.7899426759201,447.20329093192237,458.079028358736,455.5332019326154,447.9213791256187,477.2092716797165,468.7374923217149,460.8693339260699,467.95792655203815,465.8991552657435,466.4192291155929,458.08092120981206,432.35011792196957,417.2754067662817,410.92513310695824,417.35539322792266,406.8839911959126,409.164935404609,404.8171978912986,377.7509011478514,353.64612292667664,363.68517986219297,332.4924331154949,317.3144774285816,317.95611307877886,284.958664657759,277.7460166184284,281.1411931356025,286.3202214369416,314.79325272659554,293.17699177790365,299.435122563047,271.0615521780599,280.3747171450872,269.2483994291051,275.8083850702905,281.73464200141115,277.96671056981495,273.50341418810274,286.9611037603499,296.29612763685776,288.50536057246467,285.1028726269232,282.22317870221514,295.6461617616965,294.5856884801364,288.8528256377073,285.4857566471216,232.5957687168315,229.37495804862965,215.43223745188743,196.86538685228265,195.87733831990158,196.3615326706261,184.08223182704123,182.9455762532901,211.826727486526,211.38356172045502,223.05308230390344,220.14157943469374,196.57660970026544,210.15069647518166,209.14252677762573,224.38097767293743,247.41001789452824,241.84373175924134,244.7847954629194,228.34091150907457,219.5043437569195,214.9793802543282,229.22195926025515,222.22923976174894,231.73587329828857,232.78138524562496,231.14368462274348,225.79485382934465,220.47446029228078,222.19584779064581,228.03607024893924,225.06880731767043,225.6583486413028,229.52461502629814,227.96890779177835,225.66201617746177,192.0010841477226,197.06801594741623,201.0534996842992,196.31869841161435,212.20306943872677,212.44428654742978,211.08269302502694,204.3130489292998,203.97626253061995,206.8820986623052,206.30982679591045,205.03775490876455,204.08394558056762,203.52219877380867,202.35302275695454,203.3849685652639,203.1873963242213,204.72234070220853,195.75140452118532,197.44844958498987,198.63904883366095,199.1226070207312,202.28275716666226,200.13622776255872,206.8144295995959,209.10887661978728,219.16088708430868,219.0157747507677,213.4076343923455,210.7906195975224,212.96582787699498,212.47332474415572,211.6569092487521,208.5822964738589,184.02255937246565,182.4482425948311,176.0224056645322,175.6674163561007,177.72868960741224,150.39116276572489,131.476679735108,137.17304319340164,126.06638760845385,124.15029635415746,114.28793125942464,117.52527750634898,109.43098854688942,110.43494358866074,122.44642499081681,117.70538590366426,113.40288315226452,118.10075903673726,115.94428273243852,108.67684762425765,109.85191500097878,102.51104175852295,91.10115845588957,92.96795017189595,90.67825609691103,93.53012682199433,89.85371730794829,87.85041070425936,89.37790161622942,85.95872706359147,83.7859623565451,83.83358213201369,84.46584639727325,94.07306838255043,100.05002539321067,99.49155365807752,114.42918370038824,107.85318110517647,115.04582181530168,129.2065034141285,138.9578183319149,127.63707252348219,129.51137399263013,114.1013635506553,134.01993952035133,138.75426661197642,137.63169297914564,131.45872465603796,138.14480220535205,152.86045271321302,146.7305994341217,153.05656693077447,153.65187149457003,154.69930839905118,149.8986976207292,148.1478655310763,148.73887985151615,126.62475249770267,124.62679707252467,123.75936261029355,114.76604584662174,127.40527329081974,119.81437324652927,122.24553850486981,121.92726666997906,119.17073916865623,122.92817578942183,117.60787290134543,115.82686433322581,117.81718880676016,116.41601969858114,116.24543567436473,115.14990605895011,115.33716687142682,112.51348924314227,105.35239189764609,104.59784628074051,108.27309466982854,106.33599581366407,107.00955827242744,108.77817692653149,107.19999697185277,107.61824539435423,107.31703853339427,104.62362623241401,104.26536439234148,119.33360463375872,119.4895551729304,124.88963479029992,120.9702617472731,122.54208894762364,122.09412965721418,120.59217399552678,121.57227847601173,122.93860835926709,133.88146961686,145.32602670603129,143.6552341764057,148.86843467629765,145.2958232437472,148.04165031619752,157.67559560191674,134.31602869596253,137.82186652645737,135.99783785109722,134.84981713392085,135.49068376440755,134.95470877409358,132.40742658761698,130.54034774060264,125.62408249245722,136.55024768858337,137.3266515279288,136.78614228385882,133.5416931933968,137.19600030422305,135.62080210154826,132.3875340438404,133.28742563523167,131.66834445324042,132.14623792639352,136.4478648131974,141.088044162861,138.55063028189414,137.65794893090973,138.52251665504664,139.07597317963692,135.05601072736974,136.09953602013601,137.19806866408575,136.05748300079625,133.8175199792062,134.02990438257248,139.63660664431757,137.81198852309657,143.1464430979688,142.28965262894056,141.58638904490198,141.51455520152777,164.05054289558296,160.4328383197838,157.41222580794508,165.13852347138786,165.32515186458002,174.09052297795662,180.01192355336673,175.29412242748552,177.3253178087243,165.0371068265956,164.57194837218952,163.97160033492347,167.6180011787945,160.53249078494963,166.48453786817186,166.3272646030098,173.4136278107729,173.22826216880148,173.16628767058052,169.98788930945383,171.04347078958997,170.91296418483154,165.66966005027155,153.9304406219977,157.37570124574378,158.28919434200938,156.5951891487867,154.08028243009926,160.7446918472175,159.48931440238664,160.957187961045,166.63211526803488,162.83631690744357,162.37013497277277,172.82832845183785,170.0958974805934,170.11063311538177,170.5754941794681,172.68209089135948,196.69016772862045,187.27201837087424,196.0761130134243,218.28460968764938,248.74500426984375,264.90012138907406,243.57049917993297,235.32720134101996,260.5969840306033,251.9614994995826,256.08304018347053,244.54946301361045,244.64609579739667,248.5452629053534,250.82036469745614,266.122182078436,273.40508817754096,271.227867157993,268.78575645630593,255.37736314606389,268.12603920482644,264.7273242874417,269.9388294795907,251.75257532903558,240.23943365820048,246.82656909017402,249.9679117723965,250.63689323005374,244.62980571926553,232.04158416760484,247.252276227976,245.08937853941535,260.5666340627198,255.12042664174717,263.92853843827885,268.1121928964468,269.07169352749963,273.12368845247903,264.78793107969506,269.15279977813884,272.3346909863031,294.475622965937,310.6549986723195,307.9472102635873,311.0682290241495,318.63594465773593,337.34095780981363,295.8416528876357,309.94903147240586,321.4327990377608,292.83887601724456,295.2558980709613,290.9596721071729,304.17054240118233,285.2194708797812,287.98591058443685,289.57713834106636,305.33625290070233,312.46636882904147,307.7796837520069,290.00996715757395,268.63521304779994,275.8092084348764,270.314761247692,227.12207268042692,230.18019411198858,199.94052185387866,210.838537127373,226.303534286868,221.11374095039795,228.96480408491627,226.15340772656592,217.6525616583233,213.50215160809458,217.1977777484787,219.48779097276918,219.58243262777623,206.53177289591787,211.229753661743,210.823516509052,209.64626074112797,218.61308553620947,216.6304206577161,217.7954620770651,221.4161187525547,221.98815294300553,232.82368350463966,227.02071107574992,226.40119317736958,221.9958862071212,210.15361895773412,206.50462546838185,216.4855805517721,211.1131412630471,209.26573714761415,185.6553005895586,188.15278116773484,185.15324355177967,185.76004109383442,194.35736761658472,202.9597507596842,196.27274728566914,187.01618910896028,191.52119596772553,194.20938735687525,190.55575089343077,186.32236897942656,188.37725745413945,186.9706848778173,173.0270357302778,168.7991650282843,168.67088837395985,172.07296929356414,170.72754514461604,177.71647895327314,178.82647784328282,174.77627554812673,174.19381005204764,169.4228669479345,177.85258889110958,181.48393205226756,181.01465623196762,180.14939152981455,178.08294980618467,181.01083608585094,181.21194500350236,188.30568158376605,189.2550463354614,197.6069163839374,209.21116304181615,210.24907372866753,221.74292599489397,217.95344382394939,215.34523960456264,211.6175384045224,201.00337752581868,168.67357964603042,170.28886769224323,166.2168032290997,173.90494900595044,174.07970541243273,169.68947475229783,179.75716197925496,180.63244082835533,180.57893058773027,176.8585255534269,175.8631536535024,176.27725657338945,170.4471062824303,180.1442476025354,180.7897932672755,193.33993781390984,191.04108656991252,180.55244905183096,179.94653567610226,181.2872472944887,186.61606753146782,180.7456307918755,175.05406935469748,177.4769186344818,172.88626058117333,171.85241043187656,175.21210857661555,174.35449608806442,171.42654721585015,161.5840435929358,160.67839136074105,181.4531915622219,179.53527008259883,183.58089983827583,181.8617998726956,190.50596091786508,183.13375148673256,182.75570124695287,183.06419145196196,183.21568174708497,181.8244399622803,185.76433086001393,189.16575518025132,191.3004004540057,186.8165319565867,183.6736227613274,184.95814543107952,189.04498222352012,184.8398736542981,186.86593984628638,187.84288849379354,184.78830689468234,180.1687114079233,182.63065416042565,183.98796387501852,178.3855993731378,175.82048457639243,174.80445727797053,161.15147727923093,149.92569206419543,151.96608493452743,140.24681084120724,146.3461869445304,147.5750684896861,152.6150683482189,150.91034572010813,154.2553058650824,151.73585404476003,151.02315688624975,148.86726798663636,147.12795176955638,145.40170953026774,147.7974921097715,148.60569815279217,147.14578646919165,150.29244880502353,147.42926132729747,145.56867918491014,143.12297867633916,145.02592545573296,144.6187808332107,141.84486515951656,142.21086918955277,132.72274321129305,121.77010729000598,132.74136111736675,128.07915387007253,128.2701941791177,126.93287325611246,132.177469650771,128.16997170630995,127.72559890360142,125.01870585042722,125.61458431453704,126.32718018933497,128.06698743849023,134.32364719988607,131.46213638388798,129.18638529253857,130.48468503111405,127.045258011798,133.70264861844174,134.13688269785752,135.00571364233366,143.8063979556654,143.01943226498594,140.2739352738872,137.8605592818266,144.60477434647922,142.1823332749788,145.4228763353046,143.58796905036294,165.99143854583522,166.25309690488888,163.8059011142303,171.15621787671847,174.23837318258896,166.627105950562,166.93852805776996,169.27993585839252,167.8265296405668,162.5193711063404,162.40947975163579,160.6736108617404,167.64740958575632,169.73643573542233,175.19000305345375,173.70688823620804,184.72621843141053,179.22910385240365,183.33693755210265,188.5506417943111,189.8617634629817,188.8422073694829,203.85931837470943,212.7334142135279,223.27631974792007,223.30077697426216,228.2922608321734,224.1469965202861,236.78534852972572,264.0327682429963,267.67044450425146,284.2318914741182,263.89994639159625,262.1562443168135,267.9356656159883,281.9457403055277,259.1838037480287,257.9883953048599,265.164459133859,260.9965401315253,274.63121577855156,265.2421912203731,248.3173813939509,224.81050829744677,225.42971511683743,227.705284483765,218.3483569298529,218.9397969744765,231.67944604592216,223.96011601810253,224.13487737180202,228.0809351016885,244.23846951978678,237.3807902019136,198.81964228768575,200.84687148188735,200.7490385485177,194.21794124025215,110.59789783083507,132.57285770180837,123.03084410890312,124.60342553062192,110.9915984533405,117.21704138518454,117.70042464696617,136.8118757897357,131.96469397290036,131.943218453167,122.52059876658817,135.5886579803707,138.77657127268228,136.23392142176772,138.76693759902935,130.28656188757742,131.42405214081137,125.31887451568907,132.36373895414982,133.23644684382018,136.2163855731286,141.45370535238672,141.2615432664489,144.2008026819859,142.8508834648481,169.85504979336835,164.51601971073075,172.8035682674753,170.0951035238758,157.74015800780143,158.3278779418189,158.86382571951046,156.70135879140676,158.26715118298947,153.22286368002835,171.77599075088375,170.44589047705506,187.14354411560586,180.05859654051878,170.70405868653967,170.45154288047357,182.27675766207034,184.59370248021838,187.34336861419652,194.11423682570444,197.22990444623997,196.46262535084676,197.154731566343,215.54817266567372,205.5560054106367,211.96829534904973,213.94301121407543,210.02470947464764,206.83253423460687,205.22517973985208,200.2547945000944,212.2924762008652,211.68904835113824,210.43181813760643,188.13722615896572,185.67471809740306,189.3057818185128,199.36937254304954,203.21124699378413,194.2730977815312,200.58339090310056,206.76889403683896,214.35764164526788,213.68672021176667,209.92078828886324,198.91751575071874,206.2277296399456,206.41120695831913,200.69072858230624,203.81011834234965,200.96361540675872,207.84589389085406,219.59156405880168,220.49116734603786,242.70977026782685,232.33100303896674,248.0445665844865,237.26532012867926,244.1253366100755,243.70782131595854,240.24696898765112,242.021640367215,244.22674439497982,246.21278326044256,243.8495266518989,247.54197152952437,232.00078536182028,237.59341087744235,238.29362910089245,232.11252047744924,231.01701155252775,235.28847948297135,233.86361846218185,231.68485732134997,228.95921280321926,228.8691487972198,227.7919059096868,243.36470999245486,243.079482239037,234.5649846444733,232.64870349961566,229.63652602726785,221.0260852973423,225.12294616525028,228.20576377381224,225.5928149689189,230.66194359094897,226.57442434030443,225.17640548040814,229.09471646218847,227.89937503819166,241.52685187431658,238.96448054067807,246.85900786802029,241.97512857897894,240.95495378293262,239.10202554671372,241.7715226007062,239.63878681174089,240.25147066847242,238.66359720631735,233.8370745627219,232.78147743826065,235.6811447764246,238.89523167867927,236.06009844538684,245.23373502634246,263.76246396600214,274.72362025918153,279.4270562475823,305.0381394111965,310.5179909517362,320.4761913096819,316.40676605205556,317.5390729161191,334.7419220365617,346.00350607288686,387.9424211712469,370.73230243123896,386.2474477178089,389.38300834989906,400.18436250318,394.541745461183,379.13515584981633,391.4784386421146,389.62293111291143,395.2099136571893,379.17476395275446,387.50053082397886,427.4902653679686,438.76258747029743,432.6546652389317,433.4318609321125,430.03250508972286,422.1066528659943,406.57446918210684,416.46977582279794,386.8238914189482,395.88501828908585,390.7891350477376,408.26914563172284,383.66214311829907,385.7524998749211,381.8376513210843,395.1382132386205,399.37454383406396,428.2956791635217,435.6930232991005,475.6846642626858,439.35376021531476,383.69153117799783,387.9040290939167,334.4685930135432,352.9930021460704,351.8778602923998,337.8450519350685,351.2322670832358,367.6389288100067,373.91490598975173,387.72351629002264,365.69550630626185,376.3945611134071,364.69004508606855,365.1305508116482,388.79745623199386,383.17286599152135,385.4721234936851,370.96789516247753,341.27713087183093,343.9175471009492,321.07743517396284,348.82101997854943,351.33156702211755,354.2615819143104,357.06643640675526,354.42958353755046,359.4260895383701,359.5989847508578,353.1978481381706,345.91256822791433,345.99246319342944,352.45880650396106,353.6044273109068,340.6160218128092,341.44379647828094,350.0556765681247,365.33944481939363,370.47181097342855,374.4970150925736,387.2555583565716,381.1687738989225,379.2102537609277,377.15868107868175,365.99064238314685,368.65047036368986,378.04936532375945,379.6394773321802,368.2270142350453,391.16674217757213,413.2018903361905,408.8894886437192,411.9592177530502,406.157094148215,393.3829083922446,403.529837833562,388.8773398820778,386.44601298729253,382.90077103809057,385.84458879750775,394.93634204917197,383.8498034220404,387.616373722075,401.73309683247214,415.92777043097203,454.6515430984696,435.4183540833094,455.3583669721693,445.05129334206987,449.81618450129633,463.18087172032324,462.20561957949013,475.9690936576014,462.7183970607932,449.2068016397433,461.37119670526727,482.1983847235397,479.4376613624743,471.3179583944116,508.7922145852446,548.842116249849,560.5088874583059,608.2733109189421,602.6662623938871,568.2751530404491,518.4670452162001,517.5530264056014,537.3926120944485,574.7511196548438,612.2637856122055,589.5818443540977,598.7606100958238,616.506661565682,571.1904316349735,595.9194139680377,601.9689349244916,592.3865066820174,554.3296743023809,573.895309109994,560.4542654076048,545.9828352633687,568.3587534073822,590.3244403029344,585.5418949360017,589.0668316450425,635.9618893796135,644.0652701929781,654.4204162965751,659.3188076372091,639.5154368778184,610.4270278980673,634.9797234431859,587.9588954992439,612.8796570505975,626.4567387784557,636.7423171944996,689.6598573269875,732.9570292975274,735.5908981625737,752.8559324490188,738.6169381520413,730.1473402196375,777.6960653039432,967.000596728846,1025.6547675669037,1103.3582516225742,1208.5750928728885,1229.4713150147782,1223.7296883535275,1282.979575527323,1267.7310031512136,1092.9143378806066,1045.406815230412,1132.0155910164729,1216.9147884634556,1171.8600177046462,1234.6318700828049,1229.379698072007,1255.976691513213,1383.4840902277117,1385.8529958752583,1122.912432537305,1236.6834427536564,1231.176379704471,1392.5397634449737,1323.4295031020106,1355.233724240999,1253.141671558609,1328.7736190665557,1380.2842591352105,1372.427228964234,1317.0474362291773,1368.6644548123777,1514.225195751653,1661.000824367477,1587.8008991859367,1724.8569083393102,1683.941297865053,1608.6405479857196,1750.997553719215,1769.053533934599,1739.164209004836,1782.5088691218525,1841.1977507032907,1810.8425457323729,1804.9841464366496,1775.758351701864,1782.5753090505934,1845.573922156752,1938.5694368074617,1969.9797177628182,1929.367692879665,1941.4267676797988,1788.6152102806425,1563.9246059011416,1628.391533792655,1468.8601037286778,1450.9887468041188,1480.1295768477528,1416.6615528375653,1570.399689634054,1497.0891042633873,1579.427168760309,1546.4996211167372,1539.0484290947377,1661.9279698998157,1727.463096224567,1837.5330305439447,1869.3311016255,1802.3110916881176,1826.0574768119816,1770.9361793697751,1927.7207203999012,1866.0715447008808,1791.047851830107,1808.5512173614395,1828.7548332342565,1780.1596459528505,1817.1329628084295,1817.8601431294944,1790.3780747526928,1686.891197158042,1673.8591835627929,1581.631055931366,1587.2979641585232,1700.3668693581185,1713.8378756834463,1689.0367982059097,1817.626388088868,1840.2949519853962,1915.8325358462237,1970.4711995232756,2134.101788297294,2016.667247293037,2077.755212422407,2097.79638277926,2115.055451746108,1989.148061904172,2081.3540625398964,2069.667796085529,2142.7960653929085,2150.2651427927744,2142.476275865736,2304.343516311013,2429.661527751573,2514.1684155812304,2424.5538447081194,2345.266962776132,2245.7607533508544,2168.032726735651,2324.2846872281943,2373.501344298211,2426.0711497906045,2364.2312036020908,2212.8437976342047,2307.35532084471,2532.3868028851084,2647.1581896602884,2748.7845851218613,2757.497552304977,2776.70371169874,2944.9169473185057,2953.297348080473,3439.8550695192603,3245.663148933579,3524.562728476055,3495.0758690360576,3493.534500000208,3912.742916596813,3932.754068170969,3979.608651921282,4182.790285752286,3906.108903329409,3750.3415950592753,4088.73170832043,3659.9218442136175,3602.0048969299023,3288.229887237864,3399.0492796569383,2505.014945945662,2778.279660560299,2419.10321711502,2306.371266867117,2120.0373745099428,2640.1596323488234,2695.477807149633,2882.483407624011,2742.990862697615,2433.3288657286116,2294.626285512794,2395.8532280027384,2708.429865793973,2632.6565998696506,2717.1540367097723,2858.27670209791,2694.4976666790503,2624.768915059424,2711.5479390111605,2580.5355800598445,2528.022300878691,2620.6253893038547,2486.600068788676,2356.634774189676,2379.991747950219,2517.7716955254227,2587.381610979154,2561.1883309320037,2365.872786190649,2380.744519633922,2231.554315497782,2176.308536317709,2251.5605593660407,1900.1222998935384,1875.3576944712036,1971.1059779809414,1990.076151191059,1833.4631609981643,1817.047665540675,1973.9268648383472,2087.518723787417,2169.400067865984,2279.354161419647,2121.657900633364,2157.880584866453,2228.532398568573,2329.004750998825,2217.3018530598792,2320.6549288317,2317.23694270242,2126.4424673902267,2156.5809569525845,2123.0585974934124,2144.0142572722566,2042.4991866143628,1944.3950166372083,1997.6633136705989,1910.7269516309964,1874.2002496808184,1899.8427500663568,1905.723382843169,1824.929392091902,1794.973425186835,2003.7239214521076,2027.5334479167043,2117.154607794504,2183.627414557696,2209.4993601030114,2230.212067673471,2292.579636803809,2299.689405936291,2383.443259961735,2462.3999826480103,2541.674599365905,2555.408178513038,2611.673069948185,2521.2684748890933,2724.5322427136302,2821.6496927461358,2888.732274275232,3151.2175169176758,3012.3085592702105,3163.0646551948857,3147.842995401753,3166.647217967929,3048.4126816864195,3323.19799054098,3268.548177031493,3309.7549104132368,3153.583683763619,3007.144027171272,3037.230251196439,3144.8184367851927,3276.969836643336,3224.0004601521537,3243.4863583537394,3320.4091697810586,3177.6637963046905,3231.4414517288,3122.971797237849,3267.539434750998,3245.430222387629,3233.383151693551,3232.7338632854617,3440.5623358869034,3790.613996221556,3793.3007433464186,3936.1633916244464,3894.937511605067,3950.270344526561,3943.256785301908,3440.341756836568,3496.859022996073,3435.97993265133,3209.915696090501,3268.1041621348804,3417.839366766938,3301.186776828727,3425.2508733748823,3595.9625714292315,3573.3075160249905,3412.1771824216726,3427.58426153173,3335.884886514119,2977.3226793404747,2744.1109995297,3074.119761245824,3159.269865581771,2930.7427060738946,2946.9708461401983,3063.31634471348,2939.742282853775,2798.984417260104,2855.611730526516,3013.493232032077,3305.1070414437236,3393.9242492696653,3426.387080851377,3390.310407759615,3520.3422566393974,3592.1761295000256,3594.918357967647,3558.549577083409,3588.0809215501645,3431.0193069150096,3537.840087124068,3498.10529212066,3605.650334298176,3794.516888224821,3885.641764529699,3854.498461449342,3854.223686940845,3752.61872738495,3884.5872952429017,4170.107932886265,4074.860157520288,3990.7119764334734,4179.44229816945,4094.9389934187225,4230.208371594039,4152.570288731245,3944.090861781322,4288.09721878663,4422.940535593754,4324.609925711879,4292.04047236198,4330.553151595248,4596.59309058429,4607.699273078144,4550.014435142697,4494.80276090967,4527.104154150622,4626.6292884486975,4815.004634322234,4742.08091060724,4641.528764849704,4732.924450349356,4685.10635551733,4666.498498194288,4652.947394238871,4583.211418759011,4243.352906802173,4302.804958962834,3993.846595161859,4317.603195646166,4436.192766930451,4319.361566856902,4101.062876490145,4355.420957796475,4269.437219728043,4515.843300142739,4048.3128440761725,4084.088485695956,4290.091862536401,4444.528279821561,4637.121616831405,4589.610617539151,4519.441028028784,4240.155516808957,4101.656791810778,4198.572874562462,4347.615630598069,4310.566646424531,4431.540647139759,4153.333310724186,3918.200743402953,4079.814930569866,4135.841510137412,3782.895262234714,3858.1644681806974,4015.72254331389,3971.5597663421136,3886.7473617182886,3966.425351670551,3928.8417238716206,3950.482391986096,4036.549717813428,3992.594576637316,4113.529931874606,4055.117366931324,4110.571870853741,4075.03161894955,4045.051350119327,3807.3603674992,3644.405516878227,3714.945456115339,3686.4025423019352,3780.3158743278486,3835.395991493957,3769.404940114872,3794.908130100449,3556.9062274078738,3416.826008615913,3201.79457434796,3101.04090161414,3156.967262159481,3086.7290024387257,3246.413723028553,3378.0358951715943,3256.7588661330324,3311.986061274383,3331.246655159985,3356.2954438590405,3216.592980619574,3166.4539115046164,3097.02146606268,3015.5887775438364,2564.3433423740635,2407.377851608285,2537.836727861043,2447.831512095295,2465.21922984942,2470.430412015707,2411.863855325421,2551.111073519472,2603.603872339056,2610.1824055910874,2689.2208672204492,2797.434855273681,2690.3197394767644,2667.256728215686,2993.0994395135976,3018.6733981571506,3062.8058084507857,3149.953285509783,3127.438106740214,3240.921044487729,3081.911501840844,2930.563169206373,2918.0853674291184,2889.2356782810734,2935.6454998606846,3179.3002065350443,3128.640780542462,2881.6131221628593,2792.303847718624,2768.97165203486,2632.49139911745,2574.513383778016,2644.153655546016,2594.7009591101555,2599.9335696870216,2771.890509646429,2785.3389569017427,2629.48312082149,2919.2949624256576,2977.276039756805,2953.315776286441,2836.9063366005576,2619.3561376344896,2668.70597865687,2558.3598740498473,2498.658864965217,2576.6271539947625,2731.0376852939967,2611.4647225047097,2562.832353535965,2579.458135688364,2518.4928452706145,2591.5420409591425,2620.3638524209364,2771.7594572923676,2817.401074966818,2945.7459101862714,2947.226158224087,2860.641960901919,2896.5869324317464,2969.78498365825,3028.835257710728,3106.657023584939,3106.072054158695,3140.8757105064406,3285.1730967305425,3328.9341246867148,3401.184431040135,3383.788761781416,3283.3028425717257,3451.1960908672754,3440.3362384891684,3521.584724778525,3520.967117504364,3422.969883754712,3171.371104498954,3232.834988999582,3192.0250912893603,3265.938067729151,3219.159553453764,2992.7021064252435,3038.2094219963656,3121.399823462041,3023.417211885316,3045.42807480128,3066.35801414498,2995.719421019825,3061.8905711469047,3104.6884475261104,3079.676477601849,2987.4888760341605,2967.085285238213,2940.6879777714407,2922.901865199808,3008.3363470853,2806.748835957046,2889.5922230230817,2932.455083612903,2817.4898821916195,2738.174135952772,2832.513106895354,2861.372375556044,2786.0472478011084,2942.052313122658,2753.936566546688,2699.7072470893745,2641.2291069402436,2517.829922488648,2249.8909622207443,2344.797715643986,2080.910243657776,1966.699171133666,2010.214051125259,2064.229357512243,2147.047447880575,2025.888698391216,2095.178884796724,1915.1771232664505,2023.8482593608173,1963.9909395294865,1978.1471325624789,2046.6463496545232,1974.5811944790917,1979.770545006472,1944.8428445072448,1807.9694742881136,1724.8757340323443,1798.6948545788846,1814.9831598025935,1995.9364841552344,1944.0787668361788,1828.8926546074285,1833.089840845753,1776.979907458187,1804.2616695112486,1805.3313949894373,1860.1813068416047,1818.3877119829308,1794.539625671828,1788.4182866616045,1663.844367412088,1530.0386174317211,1454.6867601728409,1205.5952855404787,1214.8662649132032,1230.3643353556051,1068.6035748646073,1087.8139244584363,995.2525692707907,1125.7540917942745,1132.0543935828046,1124.5613920165545,1051.0740681589239,1144.4807534808067,1229.304085446655,1244.2862044953931,1201.237790641909,1194.2245084746116,1143.5335357209958,1098.9055176105342,1057.6309990608015,1068.8194401301964,1068.5415025999594,1074.6073175787587,1153.3483147880895,1134.017069659217,1188.7256429253803,1240.3784056617153,1233.5146792602989,1216.8497068484603,1169.0127076610179,1097.4494380477288,1040.79714550296,1112.9207827012565,1191.1308371103116,1234.0991389763224,1355.04564021949,1344.7202840019017,1570.6589588642053,1542.629821433224,1527.413930759309,1576.8252394976823,1536.1249222389129,1552.4964891908746,1601.2079670127048,1450.4822852139405,1438.9880382230651,1636.9491814677851,1723.5485206790595,1739.0421771356112,1696.7850982136515,1682.011373614746,1636.0185563573557,1638.3786826572205,1621.3413236364063,1612.4189067269824,1725.3826270211505,1693.2965918360276,1699.0064178886953,1775.7013555270828,1698.9661290126492,1852.8785552656475,1881.4274054353,1959.3309247187408,1982.4118280514235,1936.7011636052605,1908.2776419059185,1880.6001012594395,1834.8264526426367,1850.1112910473696,1618.5325042633535,1579.4157230953704,1624.149982884847,1622.30703457785,1665.7919073919315,1657.7936424663385,1697.0769719636442,1510.1891114840512,1496.0554659420902,1438.7470503278116,1555.1774560415913,1525.400116232047,1552.5629662281337,1588.9803510869067,1575.1766307276075,1555.6740772078124,1578.9493013433012,1617.9354554854335,1564.5589540302465,1629.883231163649,1635.9321760130483,1717.076956984047,1779.5190288833046,1761.3173558806911,1710.1642908515216,1573.2052136951713,1635.3682061921254,1471.9995925162982,1432.215807478607,1471.2039553630448,1335.8525523850524,1379.920704526258,1324.1905646155858,1252.7745621685783,1330.79279292183,1329.558806730321,1318.099347021849,1294.075095279779,1335.1212051991713,1331.150176933863,1340.0230594816517,1335.7389706335669,1329.1460320707963,1311.2633244162857,1277.901345279672,1323.5040179722914,1363.2371821945037,1352.5865243024869,1351.4273691979538,1324.89473802906,1315.857799905668,1322.2697552193713,1291.0816596695552,1279.8833075472612,1294.2710513882173,1288.1640147020812,1297.6276053223842,1275.6937773947975,1306.943118828839,1333.4408776301657,1311.8067255158232,1284.6549337022573,1282.0426467759612,1299.8019052506386,1313.767778723105,1364.4868713063736,1343.3344919850917,1462.0489375629863,1568.7475855708392,1514.8635252533977,1555.029213581394,1619.4295836277447,1591.0517734961002,1572.979514885975,1580.378733440259,1520.6383643789843,1531.112630741574,1644.1928578089398,1626.8064304933644,1572.9477769721586,1569.98863600334,1334.2879331082397,1095.1839771132938,1301.5538803074423,1293.9115948871518,1255.6010507578435,1223.0064433283685,1241.997092728311,1252.7067308366848,1217.7020892163011,1201.7898419641294,1213.4963100633502,1218.8936571112465,1144.2531525085537,1110.2882130124592,1135.1758118942457,1184.4617581029652,1204.2078028331202,1198.9755884889064,1205.6579602157142,1196.1962195659255,1170.115741471507,1216.936420693739,1298.94077037352,1276.6393714030964,1293.9480231782145,1243.0408423289737,1282.4164481394064,1259.7575748565346,1271.9354761263949,1233.6250483990402,1281.210637067264,1264.4773467215684,1264.7922793495136,1264.317985551174,1275.3324211551433,1319.413007743119,1308.4001523403854,1263.7464240856875,1165.9737772823323,1189.4275215641987,1186.7779210362507,1166.9895905156618,1217.8888916641763,1213.3431612255224,1217.8525497108176,1220.701744919786,1221.35953034845,1219.286343216304,1226.2534148310056,1211.819562063861,1188.7286638821608,1201.5431060594276,1199.110497171186,1196.61306480845,1200.65921690107,1214.3789459253508,1214.760969419338,1256.4366037834866,1250.7922522355911,1270.028610178057,1264.8369433837202,1284.5754041342989,1321.676571173056,1336.017071771777,1389.771662094107,1417.134908743914,1453.3769102089225,1549.1114740813043,1551.324517175301,1577.725890482971,1569.5308332272923,1516.555475473704,1550.5088875585636,1661.3349193405402,1625.9093109886562,1630.8448549407967,1632.9617267135266,1557.0597608721732,1614.6771850629295,1602.8469492523195,1598.4701935450053,1573.0634394330648,1646.5159900930198,1568.64771349631,1586.5395765836909,1642.857168158598,1648.6796840768716,1665.4278712238624,1667.2716925637008,1631.3725233636533,1617.144163289206,1672.8226777758136,1651.4083786023796,1546.383768658398,1515.5340268615537,1541.9688769412712,1515.3346311806397,1506.916201013505,1556.963484345393,1674.858207473528,1646.143501886728,1697.0848665737894,1692.518962831222,1680.3786857000732,1700.1986814992665,1656.582369571119,1643.1733937453491,1651.850006691427,1608.1034936538365,1593.9519737908456,1640.5827101943064,1633.9766289833815,1606.6326394548428,1663.925777294461,1647.6646669077718,1570.668210599776,1568.4956010562191,1563.2256620056305,1567.3501465252189,1563.813182247501,1535.2602520971093,1440.167661880184,1429.6031691041849,1474.40324440156,1588.1968020530471,1678.915634393308,1708.300897366666,1658.0701085663115,1679.7924762080895,1793.2988017342332,1769.4253269123851,1801.367419011459,1744.4414599600184,1811.4112436682733,1747.6400281141143,1824.9566578949325,1751.2194078261723,1753.982636507409,1776.867690456723,1719.1709726748609,1776.043639329832,1795.5369478273237,1792.9085783080432,1824.0200055528176,1823.0003798253083,1797.7369883938552,1810.4662554847562,1871.333525898643,1911.3386899517511,1872.2466823679092,1866.6575447874156,1851.0506710706209],\"type\":\"scatter\"}],                        {\"template\":{\"data\":{\"barpolar\":[{\"marker\":{\"line\":{\"color\":\"rgb(17,17,17)\",\"width\":0.5},\"pattern\":{\"fillmode\":\"overlay\",\"size\":10,\"solidity\":0.2}},\"type\":\"barpolar\"}],\"bar\":[{\"error_x\":{\"color\":\"#f2f5fa\"},\"error_y\":{\"color\":\"#f2f5fa\"},\"marker\":{\"line\":{\"color\":\"rgb(17,17,17)\",\"width\":0.5},\"pattern\":{\"fillmode\":\"overlay\",\"size\":10,\"solidity\":0.2}},\"type\":\"bar\"}],\"carpet\":[{\"aaxis\":{\"endlinecolor\":\"#A2B1C6\",\"gridcolor\":\"#506784\",\"linecolor\":\"#506784\",\"minorgridcolor\":\"#506784\",\"startlinecolor\":\"#A2B1C6\"},\"baxis\":{\"endlinecolor\":\"#A2B1C6\",\"gridcolor\":\"#506784\",\"linecolor\":\"#506784\",\"minorgridcolor\":\"#506784\",\"startlinecolor\":\"#A2B1C6\"},\"type\":\"carpet\"}],\"choropleth\":[{\"colorbar\":{\"outlinewidth\":0,\"ticks\":\"\"},\"type\":\"choropleth\"}],\"contourcarpet\":[{\"colorbar\":{\"outlinewidth\":0,\"ticks\":\"\"},\"type\":\"contourcarpet\"}],\"contour\":[{\"colorbar\":{\"outlinewidth\":0,\"ticks\":\"\"},\"colorscale\":[[0.0,\"#0d0887\"],[0.1111111111111111,\"#46039f\"],[0.2222222222222222,\"#7201a8\"],[0.3333333333333333,\"#9c179e\"],[0.4444444444444444,\"#bd3786\"],[0.5555555555555556,\"#d8576b\"],[0.6666666666666666,\"#ed7953\"],[0.7777777777777778,\"#fb9f3a\"],[0.8888888888888888,\"#fdca26\"],[1.0,\"#f0f921\"]],\"type\":\"contour\"}],\"heatmapgl\":[{\"colorbar\":{\"outlinewidth\":0,\"ticks\":\"\"},\"colorscale\":[[0.0,\"#0d0887\"],[0.1111111111111111,\"#46039f\"],[0.2222222222222222,\"#7201a8\"],[0.3333333333333333,\"#9c179e\"],[0.4444444444444444,\"#bd3786\"],[0.5555555555555556,\"#d8576b\"],[0.6666666666666666,\"#ed7953\"],[0.7777777777777778,\"#fb9f3a\"],[0.8888888888888888,\"#fdca26\"],[1.0,\"#f0f921\"]],\"type\":\"heatmapgl\"}],\"heatmap\":[{\"colorbar\":{\"outlinewidth\":0,\"ticks\":\"\"},\"colorscale\":[[0.0,\"#0d0887\"],[0.1111111111111111,\"#46039f\"],[0.2222222222222222,\"#7201a8\"],[0.3333333333333333,\"#9c179e\"],[0.4444444444444444,\"#bd3786\"],[0.5555555555555556,\"#d8576b\"],[0.6666666666666666,\"#ed7953\"],[0.7777777777777778,\"#fb9f3a\"],[0.8888888888888888,\"#fdca26\"],[1.0,\"#f0f921\"]],\"type\":\"heatmap\"}],\"histogram2dcontour\":[{\"colorbar\":{\"outlinewidth\":0,\"ticks\":\"\"},\"colorscale\":[[0.0,\"#0d0887\"],[0.1111111111111111,\"#46039f\"],[0.2222222222222222,\"#7201a8\"],[0.3333333333333333,\"#9c179e\"],[0.4444444444444444,\"#bd3786\"],[0.5555555555555556,\"#d8576b\"],[0.6666666666666666,\"#ed7953\"],[0.7777777777777778,\"#fb9f3a\"],[0.8888888888888888,\"#fdca26\"],[1.0,\"#f0f921\"]],\"type\":\"histogram2dcontour\"}],\"histogram2d\":[{\"colorbar\":{\"outlinewidth\":0,\"ticks\":\"\"},\"colorscale\":[[0.0,\"#0d0887\"],[0.1111111111111111,\"#46039f\"],[0.2222222222222222,\"#7201a8\"],[0.3333333333333333,\"#9c179e\"],[0.4444444444444444,\"#bd3786\"],[0.5555555555555556,\"#d8576b\"],[0.6666666666666666,\"#ed7953\"],[0.7777777777777778,\"#fb9f3a\"],[0.8888888888888888,\"#fdca26\"],[1.0,\"#f0f921\"]],\"type\":\"histogram2d\"}],\"histogram\":[{\"marker\":{\"pattern\":{\"fillmode\":\"overlay\",\"size\":10,\"solidity\":0.2}},\"type\":\"histogram\"}],\"mesh3d\":[{\"colorbar\":{\"outlinewidth\":0,\"ticks\":\"\"},\"type\":\"mesh3d\"}],\"parcoords\":[{\"line\":{\"colorbar\":{\"outlinewidth\":0,\"ticks\":\"\"}},\"type\":\"parcoords\"}],\"pie\":[{\"automargin\":true,\"type\":\"pie\"}],\"scatter3d\":[{\"line\":{\"colorbar\":{\"outlinewidth\":0,\"ticks\":\"\"}},\"marker\":{\"colorbar\":{\"outlinewidth\":0,\"ticks\":\"\"}},\"type\":\"scatter3d\"}],\"scattercarpet\":[{\"marker\":{\"colorbar\":{\"outlinewidth\":0,\"ticks\":\"\"}},\"type\":\"scattercarpet\"}],\"scattergeo\":[{\"marker\":{\"colorbar\":{\"outlinewidth\":0,\"ticks\":\"\"}},\"type\":\"scattergeo\"}],\"scattergl\":[{\"marker\":{\"line\":{\"color\":\"#283442\"}},\"type\":\"scattergl\"}],\"scattermapbox\":[{\"marker\":{\"colorbar\":{\"outlinewidth\":0,\"ticks\":\"\"}},\"type\":\"scattermapbox\"}],\"scatterpolargl\":[{\"marker\":{\"colorbar\":{\"outlinewidth\":0,\"ticks\":\"\"}},\"type\":\"scatterpolargl\"}],\"scatterpolar\":[{\"marker\":{\"colorbar\":{\"outlinewidth\":0,\"ticks\":\"\"}},\"type\":\"scatterpolar\"}],\"scatter\":[{\"marker\":{\"line\":{\"color\":\"#283442\"}},\"type\":\"scatter\"}],\"scatterternary\":[{\"marker\":{\"colorbar\":{\"outlinewidth\":0,\"ticks\":\"\"}},\"type\":\"scatterternary\"}],\"surface\":[{\"colorbar\":{\"outlinewidth\":0,\"ticks\":\"\"},\"colorscale\":[[0.0,\"#0d0887\"],[0.1111111111111111,\"#46039f\"],[0.2222222222222222,\"#7201a8\"],[0.3333333333333333,\"#9c179e\"],[0.4444444444444444,\"#bd3786\"],[0.5555555555555556,\"#d8576b\"],[0.6666666666666666,\"#ed7953\"],[0.7777777777777778,\"#fb9f3a\"],[0.8888888888888888,\"#fdca26\"],[1.0,\"#f0f921\"]],\"type\":\"surface\"}],\"table\":[{\"cells\":{\"fill\":{\"color\":\"#506784\"},\"line\":{\"color\":\"rgb(17,17,17)\"}},\"header\":{\"fill\":{\"color\":\"#2a3f5f\"},\"line\":{\"color\":\"rgb(17,17,17)\"}},\"type\":\"table\"}]},\"layout\":{\"annotationdefaults\":{\"arrowcolor\":\"#f2f5fa\",\"arrowhead\":0,\"arrowwidth\":1},\"autotypenumbers\":\"strict\",\"coloraxis\":{\"colorbar\":{\"outlinewidth\":0,\"ticks\":\"\"}},\"colorscale\":{\"diverging\":[[0,\"#8e0152\"],[0.1,\"#c51b7d\"],[0.2,\"#de77ae\"],[0.3,\"#f1b6da\"],[0.4,\"#fde0ef\"],[0.5,\"#f7f7f7\"],[0.6,\"#e6f5d0\"],[0.7,\"#b8e186\"],[0.8,\"#7fbc41\"],[0.9,\"#4d9221\"],[1,\"#276419\"]],\"sequential\":[[0.0,\"#0d0887\"],[0.1111111111111111,\"#46039f\"],[0.2222222222222222,\"#7201a8\"],[0.3333333333333333,\"#9c179e\"],[0.4444444444444444,\"#bd3786\"],[0.5555555555555556,\"#d8576b\"],[0.6666666666666666,\"#ed7953\"],[0.7777777777777778,\"#fb9f3a\"],[0.8888888888888888,\"#fdca26\"],[1.0,\"#f0f921\"]],\"sequentialminus\":[[0.0,\"#0d0887\"],[0.1111111111111111,\"#46039f\"],[0.2222222222222222,\"#7201a8\"],[0.3333333333333333,\"#9c179e\"],[0.4444444444444444,\"#bd3786\"],[0.5555555555555556,\"#d8576b\"],[0.6666666666666666,\"#ed7953\"],[0.7777777777777778,\"#fb9f3a\"],[0.8888888888888888,\"#fdca26\"],[1.0,\"#f0f921\"]]},\"colorway\":[\"#636efa\",\"#EF553B\",\"#00cc96\",\"#ab63fa\",\"#FFA15A\",\"#19d3f3\",\"#FF6692\",\"#B6E880\",\"#FF97FF\",\"#FECB52\"],\"font\":{\"color\":\"#f2f5fa\"},\"geo\":{\"bgcolor\":\"rgb(17,17,17)\",\"lakecolor\":\"rgb(17,17,17)\",\"landcolor\":\"rgb(17,17,17)\",\"showlakes\":true,\"showland\":true,\"subunitcolor\":\"#506784\"},\"hoverlabel\":{\"align\":\"left\"},\"hovermode\":\"closest\",\"mapbox\":{\"style\":\"dark\"},\"paper_bgcolor\":\"rgb(17,17,17)\",\"plot_bgcolor\":\"rgb(17,17,17)\",\"polar\":{\"angularaxis\":{\"gridcolor\":\"#506784\",\"linecolor\":\"#506784\",\"ticks\":\"\"},\"bgcolor\":\"rgb(17,17,17)\",\"radialaxis\":{\"gridcolor\":\"#506784\",\"linecolor\":\"#506784\",\"ticks\":\"\"}},\"scene\":{\"xaxis\":{\"backgroundcolor\":\"rgb(17,17,17)\",\"gridcolor\":\"#506784\",\"gridwidth\":2,\"linecolor\":\"#506784\",\"showbackground\":true,\"ticks\":\"\",\"zerolinecolor\":\"#C8D4E3\"},\"yaxis\":{\"backgroundcolor\":\"rgb(17,17,17)\",\"gridcolor\":\"#506784\",\"gridwidth\":2,\"linecolor\":\"#506784\",\"showbackground\":true,\"ticks\":\"\",\"zerolinecolor\":\"#C8D4E3\"},\"zaxis\":{\"backgroundcolor\":\"rgb(17,17,17)\",\"gridcolor\":\"#506784\",\"gridwidth\":2,\"linecolor\":\"#506784\",\"showbackground\":true,\"ticks\":\"\",\"zerolinecolor\":\"#C8D4E3\"}},\"shapedefaults\":{\"line\":{\"color\":\"#f2f5fa\"}},\"sliderdefaults\":{\"bgcolor\":\"#C8D4E3\",\"bordercolor\":\"rgb(17,17,17)\",\"borderwidth\":1,\"tickwidth\":0},\"ternary\":{\"aaxis\":{\"gridcolor\":\"#506784\",\"linecolor\":\"#506784\",\"ticks\":\"\"},\"baxis\":{\"gridcolor\":\"#506784\",\"linecolor\":\"#506784\",\"ticks\":\"\"},\"bgcolor\":\"rgb(17,17,17)\",\"caxis\":{\"gridcolor\":\"#506784\",\"linecolor\":\"#506784\",\"ticks\":\"\"}},\"title\":{\"x\":0.05},\"updatemenudefaults\":{\"bgcolor\":\"#506784\",\"borderwidth\":0},\"xaxis\":{\"automargin\":true,\"gridcolor\":\"#283442\",\"linecolor\":\"#506784\",\"ticks\":\"\",\"title\":{\"standoff\":15},\"zerolinecolor\":\"#283442\",\"zerolinewidth\":2},\"yaxis\":{\"automargin\":true,\"gridcolor\":\"#283442\",\"linecolor\":\"#506784\",\"ticks\":\"\",\"title\":{\"standoff\":15},\"zerolinecolor\":\"#283442\",\"zerolinewidth\":2}}},\"xaxis\":{\"showline\":true,\"showgrid\":true,\"showticklabels\":false,\"linecolor\":\"white\",\"linewidth\":2},\"yaxis\":{\"title\":{\"font\":{\"family\":\"Rockwell\",\"size\":12,\"color\":\"white\"},\"text\":\"Close (USD)\"},\"tickfont\":{\"family\":\"Rockwell\",\"size\":12,\"color\":\"white\"},\"showline\":true,\"showgrid\":true,\"showticklabels\":true,\"linecolor\":\"white\",\"linewidth\":2,\"ticks\":\"outside\"},\"showlegend\":true,\"annotations\":[{\"font\":{\"color\":\"white\",\"family\":\"Rockwell\",\"size\":26},\"showarrow\":false,\"text\":\"Results (LSTM)\",\"x\":0.0,\"xanchor\":\"left\",\"xref\":\"paper\",\"y\":1.05,\"yanchor\":\"bottom\",\"yref\":\"paper\"}]},                        {\"responsive\": true}                    ).then(function(){\n",
              "                            \n",
              "var gd = document.getElementById('2d6812a0-cff8-4068-ad8f-bcc42b8008e9');\n",
              "var x = new MutationObserver(function (mutations, observer) {{\n",
              "        var display = window.getComputedStyle(gd).display;\n",
              "        if (!display || display === 'none') {{\n",
              "            console.log([gd, 'removed!']);\n",
              "            Plotly.purge(gd);\n",
              "            observer.disconnect();\n",
              "        }}\n",
              "}});\n",
              "\n",
              "// Listen for the removal of the full notebook cells\n",
              "var notebookContainer = gd.closest('#notebook-container');\n",
              "if (notebookContainer) {{\n",
              "    x.observe(notebookContainer, {childList: true});\n",
              "}}\n",
              "\n",
              "// Listen for the clearing of the current output cell\n",
              "var outputEl = gd.closest('.output');\n",
              "if (outputEl) {{\n",
              "    x.observe(outputEl, {childList: true});\n",
              "}}\n",
              "\n",
              "                        })                };                            </script>        </div>\n",
              "</body>\n",
              "</html>"
            ]
          },
          "metadata": {}
        }
      ]
    },
    {
      "cell_type": "code",
      "source": [],
      "metadata": {
        "id": "jvnVOvgd9XiF"
      },
      "execution_count": null,
      "outputs": []
    }
  ]
}